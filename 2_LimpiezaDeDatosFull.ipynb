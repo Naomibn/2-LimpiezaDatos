{
  "nbformat": 4,
  "nbformat_minor": 0,
  "metadata": {
    "colab": {
      "name": "2-LimpiezaDeDatosFull.ipynb",
      "provenance": [],
      "toc_visible": true,
      "include_colab_link": true
    },
    "kernelspec": {
      "name": "python3",
      "display_name": "Python 3"
    }
  },
  "cells": [
    {
      "cell_type": "markdown",
      "metadata": {
        "id": "view-in-github",
        "colab_type": "text"
      },
      "source": [
        "<a href=\"https://colab.research.google.com/github/Naomibn/2-LimpiezaDatos/blob/main/2_LimpiezaDeDatosFull.ipynb\" target=\"_parent\"><img src=\"https://colab.research.google.com/assets/colab-badge.svg\" alt=\"Open In Colab\"/></a>"
      ]
    },
    {
      "cell_type": "markdown",
      "metadata": {
        "id": "Jx9uRQWR-EmZ"
      },
      "source": [
        "# **LIMPIEZA DE DATOS**"
      ]
    },
    {
      "cell_type": "code",
      "metadata": {
        "id": "0qG35SUm-70s",
        "outputId": "3d78a932-cb39-4313-8e1c-02486b94cf75",
        "colab": {
          "base_uri": "https://localhost:8080/",
          "height": 589
        }
      },
      "source": [
        "import pandas as pd\n",
        "Location = \"/content/drive/My Drive/Colab Notebooks/datasets/gradedata.csv\"\n",
        "df = pd.read_csv(Location)\n",
        "\n",
        "meangrade = df['grade'].mean()\n",
        "stdgrade = df['grade'].std()\n",
        "\n",
        "toprange = meangrade + stdgrade * 1.96\n",
        "botrange = meangrade - stdgrade * 1.96\n",
        "\n",
        "copydf = df\n",
        "copydf = copydf.drop(copydf[copydf['grade'] > toprange].index)\n",
        "copydf = copydf.drop(copydf[copydf['grade'] < botrange].index)\n",
        "copydf\n"
      ],
      "execution_count": 157,
      "outputs": [
        {
          "output_type": "execute_result",
          "data": {
            "text/html": [
              "<div>\n",
              "<style scoped>\n",
              "    .dataframe tbody tr th:only-of-type {\n",
              "        vertical-align: middle;\n",
              "    }\n",
              "\n",
              "    .dataframe tbody tr th {\n",
              "        vertical-align: top;\n",
              "    }\n",
              "\n",
              "    .dataframe thead th {\n",
              "        text-align: right;\n",
              "    }\n",
              "</style>\n",
              "<table border=\"1\" class=\"dataframe\">\n",
              "  <thead>\n",
              "    <tr style=\"text-align: right;\">\n",
              "      <th></th>\n",
              "      <th>fname</th>\n",
              "      <th>lname</th>\n",
              "      <th>gender</th>\n",
              "      <th>age</th>\n",
              "      <th>exercise</th>\n",
              "      <th>hours</th>\n",
              "      <th>grade</th>\n",
              "      <th>address</th>\n",
              "    </tr>\n",
              "  </thead>\n",
              "  <tbody>\n",
              "    <tr>\n",
              "      <th>0</th>\n",
              "      <td>Marcia</td>\n",
              "      <td>Pugh</td>\n",
              "      <td>female</td>\n",
              "      <td>17</td>\n",
              "      <td>3</td>\n",
              "      <td>10</td>\n",
              "      <td>82.4</td>\n",
              "      <td>9253 Richardson Road, Matawan, NJ 07747</td>\n",
              "    </tr>\n",
              "    <tr>\n",
              "      <th>1</th>\n",
              "      <td>Kadeem</td>\n",
              "      <td>Morrison</td>\n",
              "      <td>male</td>\n",
              "      <td>18</td>\n",
              "      <td>4</td>\n",
              "      <td>4</td>\n",
              "      <td>78.2</td>\n",
              "      <td>33 Spring Dr., Taunton, MA 02780</td>\n",
              "    </tr>\n",
              "    <tr>\n",
              "      <th>2</th>\n",
              "      <td>Nash</td>\n",
              "      <td>Powell</td>\n",
              "      <td>male</td>\n",
              "      <td>18</td>\n",
              "      <td>5</td>\n",
              "      <td>9</td>\n",
              "      <td>79.3</td>\n",
              "      <td>41 Hill Avenue, Mentor, OH 44060</td>\n",
              "    </tr>\n",
              "    <tr>\n",
              "      <th>3</th>\n",
              "      <td>Noelani</td>\n",
              "      <td>Wagner</td>\n",
              "      <td>female</td>\n",
              "      <td>14</td>\n",
              "      <td>2</td>\n",
              "      <td>7</td>\n",
              "      <td>83.2</td>\n",
              "      <td>8839 Marshall St., Miami, FL 33125</td>\n",
              "    </tr>\n",
              "    <tr>\n",
              "      <th>4</th>\n",
              "      <td>Noelani</td>\n",
              "      <td>Cherry</td>\n",
              "      <td>female</td>\n",
              "      <td>18</td>\n",
              "      <td>4</td>\n",
              "      <td>15</td>\n",
              "      <td>87.4</td>\n",
              "      <td>8304 Charles Rd., Lewis Center, OH 43035</td>\n",
              "    </tr>\n",
              "    <tr>\n",
              "      <th>...</th>\n",
              "      <td>...</td>\n",
              "      <td>...</td>\n",
              "      <td>...</td>\n",
              "      <td>...</td>\n",
              "      <td>...</td>\n",
              "      <td>...</td>\n",
              "      <td>...</td>\n",
              "      <td>...</td>\n",
              "    </tr>\n",
              "    <tr>\n",
              "      <th>1995</th>\n",
              "      <td>Cody</td>\n",
              "      <td>Shepherd</td>\n",
              "      <td>male</td>\n",
              "      <td>19</td>\n",
              "      <td>1</td>\n",
              "      <td>8</td>\n",
              "      <td>80.1</td>\n",
              "      <td>982 West Street, Alexandria, VA 22304</td>\n",
              "    </tr>\n",
              "    <tr>\n",
              "      <th>1996</th>\n",
              "      <td>Geraldine</td>\n",
              "      <td>Peterson</td>\n",
              "      <td>female</td>\n",
              "      <td>16</td>\n",
              "      <td>4</td>\n",
              "      <td>18</td>\n",
              "      <td>100.0</td>\n",
              "      <td>78 Morris Street, East Northport, NY 11731</td>\n",
              "    </tr>\n",
              "    <tr>\n",
              "      <th>1997</th>\n",
              "      <td>Mercedes</td>\n",
              "      <td>Leon</td>\n",
              "      <td>female</td>\n",
              "      <td>18</td>\n",
              "      <td>3</td>\n",
              "      <td>14</td>\n",
              "      <td>84.9</td>\n",
              "      <td>30 Glenridge Rd., Bountiful, UT 84010</td>\n",
              "    </tr>\n",
              "    <tr>\n",
              "      <th>1998</th>\n",
              "      <td>Lucius</td>\n",
              "      <td>Rowland</td>\n",
              "      <td>male</td>\n",
              "      <td>16</td>\n",
              "      <td>1</td>\n",
              "      <td>7</td>\n",
              "      <td>69.1</td>\n",
              "      <td>342 West Meadowbrook Lane, Helena, MT 59601</td>\n",
              "    </tr>\n",
              "    <tr>\n",
              "      <th>1999</th>\n",
              "      <td>Linus</td>\n",
              "      <td>Morris</td>\n",
              "      <td>male</td>\n",
              "      <td>19</td>\n",
              "      <td>4</td>\n",
              "      <td>10</td>\n",
              "      <td>79.6</td>\n",
              "      <td>81 Homestead Drive, Voorhees, NJ 08043</td>\n",
              "    </tr>\n",
              "  </tbody>\n",
              "</table>\n",
              "<p>1946 rows × 8 columns</p>\n",
              "</div>"
            ],
            "text/plain": [
              "          fname     lname  ...  grade                                      address\n",
              "0        Marcia      Pugh  ...   82.4      9253 Richardson Road, Matawan, NJ 07747\n",
              "1        Kadeem  Morrison  ...   78.2             33 Spring Dr., Taunton, MA 02780\n",
              "2          Nash    Powell  ...   79.3             41 Hill Avenue, Mentor, OH 44060\n",
              "3       Noelani    Wagner  ...   83.2           8839 Marshall St., Miami, FL 33125\n",
              "4       Noelani    Cherry  ...   87.4     8304 Charles Rd., Lewis Center, OH 43035\n",
              "...         ...       ...  ...    ...                                          ...\n",
              "1995       Cody  Shepherd  ...   80.1        982 West Street, Alexandria, VA 22304\n",
              "1996  Geraldine  Peterson  ...  100.0   78 Morris Street, East Northport, NY 11731\n",
              "1997   Mercedes      Leon  ...   84.9        30 Glenridge Rd., Bountiful, UT 84010\n",
              "1998     Lucius   Rowland  ...   69.1  342 West Meadowbrook Lane, Helena, MT 59601\n",
              "1999      Linus    Morris  ...   79.6       81 Homestead Drive, Voorhees, NJ 08043\n",
              "\n",
              "[1946 rows x 8 columns]"
            ]
          },
          "metadata": {
            "tags": []
          },
          "execution_count": 157
        }
      ]
    },
    {
      "cell_type": "code",
      "metadata": {
        "id": "m2XNhFgYqAtF",
        "outputId": "15091c64-9334-40bd-9395-0cd4b6fcce68",
        "colab": {
          "base_uri": "https://localhost:8080/",
          "height": 74
        }
      },
      "source": [
        "from google.colab import drive\n",
        "drive.mount('/content/drive')"
      ],
      "execution_count": 158,
      "outputs": [
        {
          "output_type": "stream",
          "text": [
            "Drive already mounted at /content/drive; to attempt to forcibly remount, call drive.mount(\"/content/drive\", force_remount=True).\n"
          ],
          "name": "stdout"
        }
      ]
    },
    {
      "cell_type": "code",
      "metadata": {
        "id": "RFZ6iOkLoInR",
        "outputId": "7ccec3ac-6587-48b0-e84c-418429c0bfb8",
        "colab": {
          "base_uri": "https://localhost:8080/",
          "height": 589
        }
      },
      "source": [
        "import pandas as pd\n",
        "\n",
        "Location = \"/content/drive/My Drive/Colab Notebooks/datasets/gradedata.csv\"\n",
        "df = pd.read_csv(Location)\n",
        "\n",
        "q1 = df['grade'].quantile(.25)\n",
        "q3 = df['grade'].quantile(.75)\n",
        "\n",
        "iqr = q3-q1\n",
        "\n",
        "toprange = q3 + iqr * 1.5\n",
        "botrange = q1 - iqr * 1.5\n",
        "\n",
        "copydf = df\n",
        "\n",
        "copydf = copydf.drop(copydf[copydf['grade'] > toprange].index)\n",
        "copydf = copydf.drop(copydf[copydf['grade'] < botrange].index)\n",
        "\n",
        "copydf"
      ],
      "execution_count": 159,
      "outputs": [
        {
          "output_type": "execute_result",
          "data": {
            "text/html": [
              "<div>\n",
              "<style scoped>\n",
              "    .dataframe tbody tr th:only-of-type {\n",
              "        vertical-align: middle;\n",
              "    }\n",
              "\n",
              "    .dataframe tbody tr th {\n",
              "        vertical-align: top;\n",
              "    }\n",
              "\n",
              "    .dataframe thead th {\n",
              "        text-align: right;\n",
              "    }\n",
              "</style>\n",
              "<table border=\"1\" class=\"dataframe\">\n",
              "  <thead>\n",
              "    <tr style=\"text-align: right;\">\n",
              "      <th></th>\n",
              "      <th>fname</th>\n",
              "      <th>lname</th>\n",
              "      <th>gender</th>\n",
              "      <th>age</th>\n",
              "      <th>exercise</th>\n",
              "      <th>hours</th>\n",
              "      <th>grade</th>\n",
              "      <th>address</th>\n",
              "    </tr>\n",
              "  </thead>\n",
              "  <tbody>\n",
              "    <tr>\n",
              "      <th>0</th>\n",
              "      <td>Marcia</td>\n",
              "      <td>Pugh</td>\n",
              "      <td>female</td>\n",
              "      <td>17</td>\n",
              "      <td>3</td>\n",
              "      <td>10</td>\n",
              "      <td>82.4</td>\n",
              "      <td>9253 Richardson Road, Matawan, NJ 07747</td>\n",
              "    </tr>\n",
              "    <tr>\n",
              "      <th>1</th>\n",
              "      <td>Kadeem</td>\n",
              "      <td>Morrison</td>\n",
              "      <td>male</td>\n",
              "      <td>18</td>\n",
              "      <td>4</td>\n",
              "      <td>4</td>\n",
              "      <td>78.2</td>\n",
              "      <td>33 Spring Dr., Taunton, MA 02780</td>\n",
              "    </tr>\n",
              "    <tr>\n",
              "      <th>2</th>\n",
              "      <td>Nash</td>\n",
              "      <td>Powell</td>\n",
              "      <td>male</td>\n",
              "      <td>18</td>\n",
              "      <td>5</td>\n",
              "      <td>9</td>\n",
              "      <td>79.3</td>\n",
              "      <td>41 Hill Avenue, Mentor, OH 44060</td>\n",
              "    </tr>\n",
              "    <tr>\n",
              "      <th>3</th>\n",
              "      <td>Noelani</td>\n",
              "      <td>Wagner</td>\n",
              "      <td>female</td>\n",
              "      <td>14</td>\n",
              "      <td>2</td>\n",
              "      <td>7</td>\n",
              "      <td>83.2</td>\n",
              "      <td>8839 Marshall St., Miami, FL 33125</td>\n",
              "    </tr>\n",
              "    <tr>\n",
              "      <th>4</th>\n",
              "      <td>Noelani</td>\n",
              "      <td>Cherry</td>\n",
              "      <td>female</td>\n",
              "      <td>18</td>\n",
              "      <td>4</td>\n",
              "      <td>15</td>\n",
              "      <td>87.4</td>\n",
              "      <td>8304 Charles Rd., Lewis Center, OH 43035</td>\n",
              "    </tr>\n",
              "    <tr>\n",
              "      <th>...</th>\n",
              "      <td>...</td>\n",
              "      <td>...</td>\n",
              "      <td>...</td>\n",
              "      <td>...</td>\n",
              "      <td>...</td>\n",
              "      <td>...</td>\n",
              "      <td>...</td>\n",
              "      <td>...</td>\n",
              "    </tr>\n",
              "    <tr>\n",
              "      <th>1995</th>\n",
              "      <td>Cody</td>\n",
              "      <td>Shepherd</td>\n",
              "      <td>male</td>\n",
              "      <td>19</td>\n",
              "      <td>1</td>\n",
              "      <td>8</td>\n",
              "      <td>80.1</td>\n",
              "      <td>982 West Street, Alexandria, VA 22304</td>\n",
              "    </tr>\n",
              "    <tr>\n",
              "      <th>1996</th>\n",
              "      <td>Geraldine</td>\n",
              "      <td>Peterson</td>\n",
              "      <td>female</td>\n",
              "      <td>16</td>\n",
              "      <td>4</td>\n",
              "      <td>18</td>\n",
              "      <td>100.0</td>\n",
              "      <td>78 Morris Street, East Northport, NY 11731</td>\n",
              "    </tr>\n",
              "    <tr>\n",
              "      <th>1997</th>\n",
              "      <td>Mercedes</td>\n",
              "      <td>Leon</td>\n",
              "      <td>female</td>\n",
              "      <td>18</td>\n",
              "      <td>3</td>\n",
              "      <td>14</td>\n",
              "      <td>84.9</td>\n",
              "      <td>30 Glenridge Rd., Bountiful, UT 84010</td>\n",
              "    </tr>\n",
              "    <tr>\n",
              "      <th>1998</th>\n",
              "      <td>Lucius</td>\n",
              "      <td>Rowland</td>\n",
              "      <td>male</td>\n",
              "      <td>16</td>\n",
              "      <td>1</td>\n",
              "      <td>7</td>\n",
              "      <td>69.1</td>\n",
              "      <td>342 West Meadowbrook Lane, Helena, MT 59601</td>\n",
              "    </tr>\n",
              "    <tr>\n",
              "      <th>1999</th>\n",
              "      <td>Linus</td>\n",
              "      <td>Morris</td>\n",
              "      <td>male</td>\n",
              "      <td>19</td>\n",
              "      <td>4</td>\n",
              "      <td>10</td>\n",
              "      <td>79.6</td>\n",
              "      <td>81 Homestead Drive, Voorhees, NJ 08043</td>\n",
              "    </tr>\n",
              "  </tbody>\n",
              "</table>\n",
              "<p>1998 rows × 8 columns</p>\n",
              "</div>"
            ],
            "text/plain": [
              "          fname     lname  ...  grade                                      address\n",
              "0        Marcia      Pugh  ...   82.4      9253 Richardson Road, Matawan, NJ 07747\n",
              "1        Kadeem  Morrison  ...   78.2             33 Spring Dr., Taunton, MA 02780\n",
              "2          Nash    Powell  ...   79.3             41 Hill Avenue, Mentor, OH 44060\n",
              "3       Noelani    Wagner  ...   83.2           8839 Marshall St., Miami, FL 33125\n",
              "4       Noelani    Cherry  ...   87.4     8304 Charles Rd., Lewis Center, OH 43035\n",
              "...         ...       ...  ...    ...                                          ...\n",
              "1995       Cody  Shepherd  ...   80.1        982 West Street, Alexandria, VA 22304\n",
              "1996  Geraldine  Peterson  ...  100.0   78 Morris Street, East Northport, NY 11731\n",
              "1997   Mercedes      Leon  ...   84.9        30 Glenridge Rd., Bountiful, UT 84010\n",
              "1998     Lucius   Rowland  ...   69.1  342 West Meadowbrook Lane, Helena, MT 59601\n",
              "1999      Linus    Morris  ...   79.6       81 Homestead Drive, Voorhees, NJ 08043\n",
              "\n",
              "[1998 rows x 8 columns]"
            ]
          },
          "metadata": {
            "tags": []
          },
          "execution_count": 159
        }
      ]
    },
    {
      "cell_type": "markdown",
      "metadata": {
        "id": "xtduloB6pMyS"
      },
      "source": [
        "**TAREA:** Load the dataset datasets/outlierdata.csv. Can you remove the\n",
        "outliers? Try it with both methods."
      ]
    },
    {
      "cell_type": "code",
      "metadata": {
        "id": "vxNHHyJH7pta",
        "outputId": "94336c68-34d5-41e1-cf67-96e8b971b259",
        "colab": {
          "base_uri": "https://localhost:8080/",
          "height": 419
        }
      },
      "source": [
        "#Método 1\n",
        "import pandas as pd\n",
        "Location = \"/content/drive/My Drive/Colab Notebooks/datasets/outlierdata.csv\"\n",
        "df = pd.read_csv(Location)\n",
        "\n",
        "meangrade = df['Net Worth'].mean()\n",
        "stdgrade = df['Net Worth'].std()\n",
        "\n",
        "toprange = meangrade + stdgrade * 1.96\n",
        "botrange = meangrade - stdgrade * 1.96\n",
        "\n",
        "copydf = df\n",
        "copydf = copydf.drop(copydf[copydf['Net Worth'] > toprange].index)\n",
        "copydf = copydf.drop(copydf[copydf['Net Worth'] < botrange].index)\n",
        "copydf"
      ],
      "execution_count": 160,
      "outputs": [
        {
          "output_type": "execute_result",
          "data": {
            "text/html": [
              "<div>\n",
              "<style scoped>\n",
              "    .dataframe tbody tr th:only-of-type {\n",
              "        vertical-align: middle;\n",
              "    }\n",
              "\n",
              "    .dataframe tbody tr th {\n",
              "        vertical-align: top;\n",
              "    }\n",
              "\n",
              "    .dataframe thead th {\n",
              "        text-align: right;\n",
              "    }\n",
              "</style>\n",
              "<table border=\"1\" class=\"dataframe\">\n",
              "  <thead>\n",
              "    <tr style=\"text-align: right;\">\n",
              "      <th></th>\n",
              "      <th>Name</th>\n",
              "      <th>Net Worth</th>\n",
              "    </tr>\n",
              "  </thead>\n",
              "  <tbody>\n",
              "    <tr>\n",
              "      <th>0</th>\n",
              "      <td>Stella B. Battle</td>\n",
              "      <td>13853</td>\n",
              "    </tr>\n",
              "    <tr>\n",
              "      <th>1</th>\n",
              "      <td>Virginia Q. Salas</td>\n",
              "      <td>18065</td>\n",
              "    </tr>\n",
              "    <tr>\n",
              "      <th>2</th>\n",
              "      <td>Keiko S. Berry</td>\n",
              "      <td>6169</td>\n",
              "    </tr>\n",
              "    <tr>\n",
              "      <th>3</th>\n",
              "      <td>Dustin U. Hopkins</td>\n",
              "      <td>4857</td>\n",
              "    </tr>\n",
              "    <tr>\n",
              "      <th>4</th>\n",
              "      <td>Sloane O. Atkins</td>\n",
              "      <td>14022</td>\n",
              "    </tr>\n",
              "    <tr>\n",
              "      <th>...</th>\n",
              "      <td>...</td>\n",
              "      <td>...</td>\n",
              "    </tr>\n",
              "    <tr>\n",
              "      <th>95</th>\n",
              "      <td>Barbara Z. Rivera</td>\n",
              "      <td>17272</td>\n",
              "    </tr>\n",
              "    <tr>\n",
              "      <th>96</th>\n",
              "      <td>Lilah Q. Porter</td>\n",
              "      <td>-9786</td>\n",
              "    </tr>\n",
              "    <tr>\n",
              "      <th>97</th>\n",
              "      <td>Angelica Z. King</td>\n",
              "      <td>3</td>\n",
              "    </tr>\n",
              "    <tr>\n",
              "      <th>98</th>\n",
              "      <td>Delilah N. Sweet</td>\n",
              "      <td>350</td>\n",
              "    </tr>\n",
              "    <tr>\n",
              "      <th>99</th>\n",
              "      <td>Valentine X. Henry</td>\n",
              "      <td>3099</td>\n",
              "    </tr>\n",
              "  </tbody>\n",
              "</table>\n",
              "<p>98 rows × 2 columns</p>\n",
              "</div>"
            ],
            "text/plain": [
              "                  Name  Net Worth\n",
              "0     Stella B. Battle      13853\n",
              "1    Virginia Q. Salas      18065\n",
              "2       Keiko S. Berry       6169\n",
              "3    Dustin U. Hopkins       4857\n",
              "4     Sloane O. Atkins      14022\n",
              "..                 ...        ...\n",
              "95   Barbara Z. Rivera      17272\n",
              "96     Lilah Q. Porter      -9786\n",
              "97    Angelica Z. King          3\n",
              "98    Delilah N. Sweet        350\n",
              "99  Valentine X. Henry       3099\n",
              "\n",
              "[98 rows x 2 columns]"
            ]
          },
          "metadata": {
            "tags": []
          },
          "execution_count": 160
        }
      ]
    },
    {
      "cell_type": "code",
      "metadata": {
        "id": "HjKnTHU-UE3T",
        "outputId": "38c774b6-7dca-4dd2-902a-e19212ddc481",
        "colab": {
          "base_uri": "https://localhost:8080/",
          "height": 419
        }
      },
      "source": [
        "#Método 2\n",
        "import pandas as pd\n",
        "\n",
        "Location = \"/content/drive/My Drive/Colab Notebooks/datasets/outlierdata.csv\"\n",
        "df = pd.read_csv(Location)\n",
        "\n",
        "q1 = df['Net Worth'].quantile(.25)\n",
        "q3 = df['Net Worth'].quantile(.75)\n",
        "\n",
        "iqr = q3-q1\n",
        "\n",
        "toprange = q3 + iqr * 1.5\n",
        "botrange = q1 - iqr * 1.5\n",
        "\n",
        "copydf = df\n",
        "\n",
        "copydf = copydf.drop(copydf[copydf['Net Worth'] > toprange].index)\n",
        "copydf = copydf.drop(copydf[copydf['Net Worth'] < botrange].index)\n",
        "\n",
        "copydf"
      ],
      "execution_count": 161,
      "outputs": [
        {
          "output_type": "execute_result",
          "data": {
            "text/html": [
              "<div>\n",
              "<style scoped>\n",
              "    .dataframe tbody tr th:only-of-type {\n",
              "        vertical-align: middle;\n",
              "    }\n",
              "\n",
              "    .dataframe tbody tr th {\n",
              "        vertical-align: top;\n",
              "    }\n",
              "\n",
              "    .dataframe thead th {\n",
              "        text-align: right;\n",
              "    }\n",
              "</style>\n",
              "<table border=\"1\" class=\"dataframe\">\n",
              "  <thead>\n",
              "    <tr style=\"text-align: right;\">\n",
              "      <th></th>\n",
              "      <th>Name</th>\n",
              "      <th>Net Worth</th>\n",
              "    </tr>\n",
              "  </thead>\n",
              "  <tbody>\n",
              "    <tr>\n",
              "      <th>0</th>\n",
              "      <td>Stella B. Battle</td>\n",
              "      <td>13853</td>\n",
              "    </tr>\n",
              "    <tr>\n",
              "      <th>1</th>\n",
              "      <td>Virginia Q. Salas</td>\n",
              "      <td>18065</td>\n",
              "    </tr>\n",
              "    <tr>\n",
              "      <th>2</th>\n",
              "      <td>Keiko S. Berry</td>\n",
              "      <td>6169</td>\n",
              "    </tr>\n",
              "    <tr>\n",
              "      <th>3</th>\n",
              "      <td>Dustin U. Hopkins</td>\n",
              "      <td>4857</td>\n",
              "    </tr>\n",
              "    <tr>\n",
              "      <th>4</th>\n",
              "      <td>Sloane O. Atkins</td>\n",
              "      <td>14022</td>\n",
              "    </tr>\n",
              "    <tr>\n",
              "      <th>...</th>\n",
              "      <td>...</td>\n",
              "      <td>...</td>\n",
              "    </tr>\n",
              "    <tr>\n",
              "      <th>95</th>\n",
              "      <td>Barbara Z. Rivera</td>\n",
              "      <td>17272</td>\n",
              "    </tr>\n",
              "    <tr>\n",
              "      <th>96</th>\n",
              "      <td>Lilah Q. Porter</td>\n",
              "      <td>-9786</td>\n",
              "    </tr>\n",
              "    <tr>\n",
              "      <th>97</th>\n",
              "      <td>Angelica Z. King</td>\n",
              "      <td>3</td>\n",
              "    </tr>\n",
              "    <tr>\n",
              "      <th>98</th>\n",
              "      <td>Delilah N. Sweet</td>\n",
              "      <td>350</td>\n",
              "    </tr>\n",
              "    <tr>\n",
              "      <th>99</th>\n",
              "      <td>Valentine X. Henry</td>\n",
              "      <td>3099</td>\n",
              "    </tr>\n",
              "  </tbody>\n",
              "</table>\n",
              "<p>97 rows × 2 columns</p>\n",
              "</div>"
            ],
            "text/plain": [
              "                  Name  Net Worth\n",
              "0     Stella B. Battle      13853\n",
              "1    Virginia Q. Salas      18065\n",
              "2       Keiko S. Berry       6169\n",
              "3    Dustin U. Hopkins       4857\n",
              "4     Sloane O. Atkins      14022\n",
              "..                 ...        ...\n",
              "95   Barbara Z. Rivera      17272\n",
              "96     Lilah Q. Porter      -9786\n",
              "97    Angelica Z. King          3\n",
              "98    Delilah N. Sweet        350\n",
              "99  Valentine X. Henry       3099\n",
              "\n",
              "[97 rows x 2 columns]"
            ]
          },
          "metadata": {
            "tags": []
          },
          "execution_count": 161
        }
      ]
    },
    {
      "cell_type": "markdown",
      "metadata": {
        "id": "jSRoR6wjp4JZ"
      },
      "source": [
        "# **Datos extraviados**"
      ]
    },
    {
      "cell_type": "code",
      "metadata": {
        "id": "gQW150DZqA3N",
        "outputId": "483d0fc6-c1a7-4d8b-fcc8-f892eedb9054",
        "colab": {
          "base_uri": "https://localhost:8080/",
          "height": 1000
        }
      },
      "source": [
        "import pandas as pd\n",
        "df = pd.read_csv(\"/content/drive/My Drive/Colab Notebooks/datasets/gradedatamissing.csv\")\n",
        "\n",
        "df"
      ],
      "execution_count": 162,
      "outputs": [
        {
          "output_type": "execute_result",
          "data": {
            "text/html": [
              "<div>\n",
              "<style scoped>\n",
              "    .dataframe tbody tr th:only-of-type {\n",
              "        vertical-align: middle;\n",
              "    }\n",
              "\n",
              "    .dataframe tbody tr th {\n",
              "        vertical-align: top;\n",
              "    }\n",
              "\n",
              "    .dataframe thead th {\n",
              "        text-align: right;\n",
              "    }\n",
              "</style>\n",
              "<table border=\"1\" class=\"dataframe\">\n",
              "  <thead>\n",
              "    <tr style=\"text-align: right;\">\n",
              "      <th></th>\n",
              "      <th>fname</th>\n",
              "      <th>lname</th>\n",
              "      <th>gender</th>\n",
              "      <th>age</th>\n",
              "      <th>exercise</th>\n",
              "      <th>hours</th>\n",
              "      <th>grade</th>\n",
              "      <th>address</th>\n",
              "    </tr>\n",
              "  </thead>\n",
              "  <tbody>\n",
              "    <tr>\n",
              "      <th>0</th>\n",
              "      <td>Marcia</td>\n",
              "      <td>Pugh</td>\n",
              "      <td>female</td>\n",
              "      <td>17.0</td>\n",
              "      <td>3.0</td>\n",
              "      <td>10.0</td>\n",
              "      <td>82.4</td>\n",
              "      <td>9253 Richardson Road, Matawan, NJ 07747</td>\n",
              "    </tr>\n",
              "    <tr>\n",
              "      <th>1</th>\n",
              "      <td>Kadeem</td>\n",
              "      <td>Morrison</td>\n",
              "      <td>male</td>\n",
              "      <td>18.0</td>\n",
              "      <td>4.0</td>\n",
              "      <td>4.0</td>\n",
              "      <td>78.2</td>\n",
              "      <td>33 Spring Dr., Taunton, MA 02780</td>\n",
              "    </tr>\n",
              "    <tr>\n",
              "      <th>2</th>\n",
              "      <td>Nash</td>\n",
              "      <td>Powell</td>\n",
              "      <td>male</td>\n",
              "      <td>18.0</td>\n",
              "      <td>5.0</td>\n",
              "      <td>9.0</td>\n",
              "      <td>79.3</td>\n",
              "      <td>41 Hill Avenue, Mentor, OH 44060</td>\n",
              "    </tr>\n",
              "    <tr>\n",
              "      <th>3</th>\n",
              "      <td>Noelani</td>\n",
              "      <td>Wagner</td>\n",
              "      <td>female</td>\n",
              "      <td>14.0</td>\n",
              "      <td>2.0</td>\n",
              "      <td>7.0</td>\n",
              "      <td>83.2</td>\n",
              "      <td>8839 Marshall St., Miami, FL 33125</td>\n",
              "    </tr>\n",
              "    <tr>\n",
              "      <th>4</th>\n",
              "      <td>Noelani</td>\n",
              "      <td>Cherry</td>\n",
              "      <td>female</td>\n",
              "      <td>18.0</td>\n",
              "      <td>4.0</td>\n",
              "      <td>15.0</td>\n",
              "      <td>87.4</td>\n",
              "      <td>8304 Charles Rd., Lewis Center, OH 43035</td>\n",
              "    </tr>\n",
              "    <tr>\n",
              "      <th>...</th>\n",
              "      <td>...</td>\n",
              "      <td>...</td>\n",
              "      <td>...</td>\n",
              "      <td>...</td>\n",
              "      <td>...</td>\n",
              "      <td>...</td>\n",
              "      <td>...</td>\n",
              "      <td>...</td>\n",
              "    </tr>\n",
              "    <tr>\n",
              "      <th>1997</th>\n",
              "      <td>Cody</td>\n",
              "      <td>Shepherd</td>\n",
              "      <td>male</td>\n",
              "      <td>19.0</td>\n",
              "      <td>1.0</td>\n",
              "      <td>8.0</td>\n",
              "      <td>80.1</td>\n",
              "      <td>982 West Street, Alexandria, VA 22304</td>\n",
              "    </tr>\n",
              "    <tr>\n",
              "      <th>1998</th>\n",
              "      <td>Geraldine</td>\n",
              "      <td>Peterson</td>\n",
              "      <td>female</td>\n",
              "      <td>16.0</td>\n",
              "      <td>4.0</td>\n",
              "      <td>18.0</td>\n",
              "      <td>100.0</td>\n",
              "      <td>78 Morris Street, East Northport, NY 11731</td>\n",
              "    </tr>\n",
              "    <tr>\n",
              "      <th>1999</th>\n",
              "      <td>Mercedes</td>\n",
              "      <td>Leon</td>\n",
              "      <td>female</td>\n",
              "      <td>18.0</td>\n",
              "      <td>3.0</td>\n",
              "      <td>14.0</td>\n",
              "      <td>84.9</td>\n",
              "      <td>30 Glenridge Rd., Bountiful, UT 84010</td>\n",
              "    </tr>\n",
              "    <tr>\n",
              "      <th>2000</th>\n",
              "      <td>Lucius</td>\n",
              "      <td>Rowland</td>\n",
              "      <td>male</td>\n",
              "      <td>16.0</td>\n",
              "      <td>1.0</td>\n",
              "      <td>7.0</td>\n",
              "      <td>69.1</td>\n",
              "      <td>342 West Meadowbrook Lane, Helena, MT 59601</td>\n",
              "    </tr>\n",
              "    <tr>\n",
              "      <th>2001</th>\n",
              "      <td>Linus</td>\n",
              "      <td>Morris</td>\n",
              "      <td>male</td>\n",
              "      <td>19.0</td>\n",
              "      <td>4.0</td>\n",
              "      <td>10.0</td>\n",
              "      <td>79.6</td>\n",
              "      <td>81 Homestead Drive, Voorhees, NJ 08043</td>\n",
              "    </tr>\n",
              "  </tbody>\n",
              "</table>\n",
              "<p>2002 rows × 8 columns</p>\n",
              "</div>"
            ],
            "text/plain": [
              "          fname     lname  ...  grade                                      address\n",
              "0        Marcia      Pugh  ...   82.4      9253 Richardson Road, Matawan, NJ 07747\n",
              "1        Kadeem  Morrison  ...   78.2             33 Spring Dr., Taunton, MA 02780\n",
              "2          Nash    Powell  ...   79.3             41 Hill Avenue, Mentor, OH 44060\n",
              "3       Noelani    Wagner  ...   83.2           8839 Marshall St., Miami, FL 33125\n",
              "4       Noelani    Cherry  ...   87.4     8304 Charles Rd., Lewis Center, OH 43035\n",
              "...         ...       ...  ...    ...                                          ...\n",
              "1997       Cody  Shepherd  ...   80.1        982 West Street, Alexandria, VA 22304\n",
              "1998  Geraldine  Peterson  ...  100.0   78 Morris Street, East Northport, NY 11731\n",
              "1999   Mercedes      Leon  ...   84.9        30 Glenridge Rd., Bountiful, UT 84010\n",
              "2000     Lucius   Rowland  ...   69.1  342 West Meadowbrook Lane, Helena, MT 59601\n",
              "2001      Linus    Morris  ...   79.6       81 Homestead Drive, Voorhees, NJ 08043\n",
              "\n",
              "[2002 rows x 8 columns]"
            ]
          },
          "metadata": {
            "tags": []
          },
          "execution_count": 162
        }
      ]
    },
    {
      "cell_type": "code",
      "metadata": {
        "id": "rA0zucmyql89",
        "outputId": "c30952b6-e6b4-4c14-d443-faba3ded7ab1",
        "colab": {
          "base_uri": "https://localhost:8080/",
          "height": 1000
        }
      },
      "source": [
        "df_no_missing = df.dropna()\n",
        "df_no_missing"
      ],
      "execution_count": 163,
      "outputs": [
        {
          "output_type": "execute_result",
          "data": {
            "text/html": [
              "<div>\n",
              "<style scoped>\n",
              "    .dataframe tbody tr th:only-of-type {\n",
              "        vertical-align: middle;\n",
              "    }\n",
              "\n",
              "    .dataframe tbody tr th {\n",
              "        vertical-align: top;\n",
              "    }\n",
              "\n",
              "    .dataframe thead th {\n",
              "        text-align: right;\n",
              "    }\n",
              "</style>\n",
              "<table border=\"1\" class=\"dataframe\">\n",
              "  <thead>\n",
              "    <tr style=\"text-align: right;\">\n",
              "      <th></th>\n",
              "      <th>fname</th>\n",
              "      <th>lname</th>\n",
              "      <th>gender</th>\n",
              "      <th>age</th>\n",
              "      <th>exercise</th>\n",
              "      <th>hours</th>\n",
              "      <th>grade</th>\n",
              "      <th>address</th>\n",
              "    </tr>\n",
              "  </thead>\n",
              "  <tbody>\n",
              "    <tr>\n",
              "      <th>0</th>\n",
              "      <td>Marcia</td>\n",
              "      <td>Pugh</td>\n",
              "      <td>female</td>\n",
              "      <td>17.0</td>\n",
              "      <td>3.0</td>\n",
              "      <td>10.0</td>\n",
              "      <td>82.4</td>\n",
              "      <td>9253 Richardson Road, Matawan, NJ 07747</td>\n",
              "    </tr>\n",
              "    <tr>\n",
              "      <th>1</th>\n",
              "      <td>Kadeem</td>\n",
              "      <td>Morrison</td>\n",
              "      <td>male</td>\n",
              "      <td>18.0</td>\n",
              "      <td>4.0</td>\n",
              "      <td>4.0</td>\n",
              "      <td>78.2</td>\n",
              "      <td>33 Spring Dr., Taunton, MA 02780</td>\n",
              "    </tr>\n",
              "    <tr>\n",
              "      <th>2</th>\n",
              "      <td>Nash</td>\n",
              "      <td>Powell</td>\n",
              "      <td>male</td>\n",
              "      <td>18.0</td>\n",
              "      <td>5.0</td>\n",
              "      <td>9.0</td>\n",
              "      <td>79.3</td>\n",
              "      <td>41 Hill Avenue, Mentor, OH 44060</td>\n",
              "    </tr>\n",
              "    <tr>\n",
              "      <th>3</th>\n",
              "      <td>Noelani</td>\n",
              "      <td>Wagner</td>\n",
              "      <td>female</td>\n",
              "      <td>14.0</td>\n",
              "      <td>2.0</td>\n",
              "      <td>7.0</td>\n",
              "      <td>83.2</td>\n",
              "      <td>8839 Marshall St., Miami, FL 33125</td>\n",
              "    </tr>\n",
              "    <tr>\n",
              "      <th>4</th>\n",
              "      <td>Noelani</td>\n",
              "      <td>Cherry</td>\n",
              "      <td>female</td>\n",
              "      <td>18.0</td>\n",
              "      <td>4.0</td>\n",
              "      <td>15.0</td>\n",
              "      <td>87.4</td>\n",
              "      <td>8304 Charles Rd., Lewis Center, OH 43035</td>\n",
              "    </tr>\n",
              "    <tr>\n",
              "      <th>...</th>\n",
              "      <td>...</td>\n",
              "      <td>...</td>\n",
              "      <td>...</td>\n",
              "      <td>...</td>\n",
              "      <td>...</td>\n",
              "      <td>...</td>\n",
              "      <td>...</td>\n",
              "      <td>...</td>\n",
              "    </tr>\n",
              "    <tr>\n",
              "      <th>1997</th>\n",
              "      <td>Cody</td>\n",
              "      <td>Shepherd</td>\n",
              "      <td>male</td>\n",
              "      <td>19.0</td>\n",
              "      <td>1.0</td>\n",
              "      <td>8.0</td>\n",
              "      <td>80.1</td>\n",
              "      <td>982 West Street, Alexandria, VA 22304</td>\n",
              "    </tr>\n",
              "    <tr>\n",
              "      <th>1998</th>\n",
              "      <td>Geraldine</td>\n",
              "      <td>Peterson</td>\n",
              "      <td>female</td>\n",
              "      <td>16.0</td>\n",
              "      <td>4.0</td>\n",
              "      <td>18.0</td>\n",
              "      <td>100.0</td>\n",
              "      <td>78 Morris Street, East Northport, NY 11731</td>\n",
              "    </tr>\n",
              "    <tr>\n",
              "      <th>1999</th>\n",
              "      <td>Mercedes</td>\n",
              "      <td>Leon</td>\n",
              "      <td>female</td>\n",
              "      <td>18.0</td>\n",
              "      <td>3.0</td>\n",
              "      <td>14.0</td>\n",
              "      <td>84.9</td>\n",
              "      <td>30 Glenridge Rd., Bountiful, UT 84010</td>\n",
              "    </tr>\n",
              "    <tr>\n",
              "      <th>2000</th>\n",
              "      <td>Lucius</td>\n",
              "      <td>Rowland</td>\n",
              "      <td>male</td>\n",
              "      <td>16.0</td>\n",
              "      <td>1.0</td>\n",
              "      <td>7.0</td>\n",
              "      <td>69.1</td>\n",
              "      <td>342 West Meadowbrook Lane, Helena, MT 59601</td>\n",
              "    </tr>\n",
              "    <tr>\n",
              "      <th>2001</th>\n",
              "      <td>Linus</td>\n",
              "      <td>Morris</td>\n",
              "      <td>male</td>\n",
              "      <td>19.0</td>\n",
              "      <td>4.0</td>\n",
              "      <td>10.0</td>\n",
              "      <td>79.6</td>\n",
              "      <td>81 Homestead Drive, Voorhees, NJ 08043</td>\n",
              "    </tr>\n",
              "  </tbody>\n",
              "</table>\n",
              "<p>1984 rows × 8 columns</p>\n",
              "</div>"
            ],
            "text/plain": [
              "          fname     lname  ...  grade                                      address\n",
              "0        Marcia      Pugh  ...   82.4      9253 Richardson Road, Matawan, NJ 07747\n",
              "1        Kadeem  Morrison  ...   78.2             33 Spring Dr., Taunton, MA 02780\n",
              "2          Nash    Powell  ...   79.3             41 Hill Avenue, Mentor, OH 44060\n",
              "3       Noelani    Wagner  ...   83.2           8839 Marshall St., Miami, FL 33125\n",
              "4       Noelani    Cherry  ...   87.4     8304 Charles Rd., Lewis Center, OH 43035\n",
              "...         ...       ...  ...    ...                                          ...\n",
              "1997       Cody  Shepherd  ...   80.1        982 West Street, Alexandria, VA 22304\n",
              "1998  Geraldine  Peterson  ...  100.0   78 Morris Street, East Northport, NY 11731\n",
              "1999   Mercedes      Leon  ...   84.9        30 Glenridge Rd., Bountiful, UT 84010\n",
              "2000     Lucius   Rowland  ...   69.1  342 West Meadowbrook Lane, Helena, MT 59601\n",
              "2001      Linus    Morris  ...   79.6       81 Homestead Drive, Voorhees, NJ 08043\n",
              "\n",
              "[1984 rows x 8 columns]"
            ]
          },
          "metadata": {
            "tags": []
          },
          "execution_count": 163
        }
      ]
    },
    {
      "cell_type": "code",
      "metadata": {
        "id": "CH3Q8GqgrXuP",
        "outputId": "28fb2fab-10e0-4712-d906-cd0174e44783",
        "colab": {
          "base_uri": "https://localhost:8080/",
          "height": 513
        }
      },
      "source": [
        "import numpy as np\n",
        "df['newcol'] = np.nan\n",
        "\n",
        "df.head()"
      ],
      "execution_count": 164,
      "outputs": [
        {
          "output_type": "execute_result",
          "data": {
            "text/html": [
              "<div>\n",
              "<style scoped>\n",
              "    .dataframe tbody tr th:only-of-type {\n",
              "        vertical-align: middle;\n",
              "    }\n",
              "\n",
              "    .dataframe tbody tr th {\n",
              "        vertical-align: top;\n",
              "    }\n",
              "\n",
              "    .dataframe thead th {\n",
              "        text-align: right;\n",
              "    }\n",
              "</style>\n",
              "<table border=\"1\" class=\"dataframe\">\n",
              "  <thead>\n",
              "    <tr style=\"text-align: right;\">\n",
              "      <th></th>\n",
              "      <th>fname</th>\n",
              "      <th>lname</th>\n",
              "      <th>gender</th>\n",
              "      <th>age</th>\n",
              "      <th>exercise</th>\n",
              "      <th>hours</th>\n",
              "      <th>grade</th>\n",
              "      <th>address</th>\n",
              "      <th>newcol</th>\n",
              "    </tr>\n",
              "  </thead>\n",
              "  <tbody>\n",
              "    <tr>\n",
              "      <th>0</th>\n",
              "      <td>Marcia</td>\n",
              "      <td>Pugh</td>\n",
              "      <td>female</td>\n",
              "      <td>17.0</td>\n",
              "      <td>3.0</td>\n",
              "      <td>10.0</td>\n",
              "      <td>82.4</td>\n",
              "      <td>9253 Richardson Road, Matawan, NJ 07747</td>\n",
              "      <td>NaN</td>\n",
              "    </tr>\n",
              "    <tr>\n",
              "      <th>1</th>\n",
              "      <td>Kadeem</td>\n",
              "      <td>Morrison</td>\n",
              "      <td>male</td>\n",
              "      <td>18.0</td>\n",
              "      <td>4.0</td>\n",
              "      <td>4.0</td>\n",
              "      <td>78.2</td>\n",
              "      <td>33 Spring Dr., Taunton, MA 02780</td>\n",
              "      <td>NaN</td>\n",
              "    </tr>\n",
              "    <tr>\n",
              "      <th>2</th>\n",
              "      <td>Nash</td>\n",
              "      <td>Powell</td>\n",
              "      <td>male</td>\n",
              "      <td>18.0</td>\n",
              "      <td>5.0</td>\n",
              "      <td>9.0</td>\n",
              "      <td>79.3</td>\n",
              "      <td>41 Hill Avenue, Mentor, OH 44060</td>\n",
              "      <td>NaN</td>\n",
              "    </tr>\n",
              "    <tr>\n",
              "      <th>3</th>\n",
              "      <td>Noelani</td>\n",
              "      <td>Wagner</td>\n",
              "      <td>female</td>\n",
              "      <td>14.0</td>\n",
              "      <td>2.0</td>\n",
              "      <td>7.0</td>\n",
              "      <td>83.2</td>\n",
              "      <td>8839 Marshall St., Miami, FL 33125</td>\n",
              "      <td>NaN</td>\n",
              "    </tr>\n",
              "    <tr>\n",
              "      <th>4</th>\n",
              "      <td>Noelani</td>\n",
              "      <td>Cherry</td>\n",
              "      <td>female</td>\n",
              "      <td>18.0</td>\n",
              "      <td>4.0</td>\n",
              "      <td>15.0</td>\n",
              "      <td>87.4</td>\n",
              "      <td>8304 Charles Rd., Lewis Center, OH 43035</td>\n",
              "      <td>NaN</td>\n",
              "    </tr>\n",
              "  </tbody>\n",
              "</table>\n",
              "</div>"
            ],
            "text/plain": [
              "     fname     lname  ...                                   address  newcol\n",
              "0   Marcia      Pugh  ...   9253 Richardson Road, Matawan, NJ 07747     NaN\n",
              "1   Kadeem  Morrison  ...          33 Spring Dr., Taunton, MA 02780     NaN\n",
              "2     Nash    Powell  ...          41 Hill Avenue, Mentor, OH 44060     NaN\n",
              "3  Noelani    Wagner  ...        8839 Marshall St., Miami, FL 33125     NaN\n",
              "4  Noelani    Cherry  ...  8304 Charles Rd., Lewis Center, OH 43035     NaN\n",
              "\n",
              "[5 rows x 9 columns]"
            ]
          },
          "metadata": {
            "tags": []
          },
          "execution_count": 164
        }
      ]
    },
    {
      "cell_type": "code",
      "metadata": {
        "id": "1iyHdaMusEGg",
        "outputId": "b010a782-5f27-4112-b90a-4de102ab63f5",
        "colab": {
          "base_uri": "https://localhost:8080/",
          "height": 1000
        }
      },
      "source": [
        "df.dropna(axis=1, how='all')"
      ],
      "execution_count": 165,
      "outputs": [
        {
          "output_type": "execute_result",
          "data": {
            "text/html": [
              "<div>\n",
              "<style scoped>\n",
              "    .dataframe tbody tr th:only-of-type {\n",
              "        vertical-align: middle;\n",
              "    }\n",
              "\n",
              "    .dataframe tbody tr th {\n",
              "        vertical-align: top;\n",
              "    }\n",
              "\n",
              "    .dataframe thead th {\n",
              "        text-align: right;\n",
              "    }\n",
              "</style>\n",
              "<table border=\"1\" class=\"dataframe\">\n",
              "  <thead>\n",
              "    <tr style=\"text-align: right;\">\n",
              "      <th></th>\n",
              "      <th>fname</th>\n",
              "      <th>lname</th>\n",
              "      <th>gender</th>\n",
              "      <th>age</th>\n",
              "      <th>exercise</th>\n",
              "      <th>hours</th>\n",
              "      <th>grade</th>\n",
              "      <th>address</th>\n",
              "    </tr>\n",
              "  </thead>\n",
              "  <tbody>\n",
              "    <tr>\n",
              "      <th>0</th>\n",
              "      <td>Marcia</td>\n",
              "      <td>Pugh</td>\n",
              "      <td>female</td>\n",
              "      <td>17.0</td>\n",
              "      <td>3.0</td>\n",
              "      <td>10.0</td>\n",
              "      <td>82.4</td>\n",
              "      <td>9253 Richardson Road, Matawan, NJ 07747</td>\n",
              "    </tr>\n",
              "    <tr>\n",
              "      <th>1</th>\n",
              "      <td>Kadeem</td>\n",
              "      <td>Morrison</td>\n",
              "      <td>male</td>\n",
              "      <td>18.0</td>\n",
              "      <td>4.0</td>\n",
              "      <td>4.0</td>\n",
              "      <td>78.2</td>\n",
              "      <td>33 Spring Dr., Taunton, MA 02780</td>\n",
              "    </tr>\n",
              "    <tr>\n",
              "      <th>2</th>\n",
              "      <td>Nash</td>\n",
              "      <td>Powell</td>\n",
              "      <td>male</td>\n",
              "      <td>18.0</td>\n",
              "      <td>5.0</td>\n",
              "      <td>9.0</td>\n",
              "      <td>79.3</td>\n",
              "      <td>41 Hill Avenue, Mentor, OH 44060</td>\n",
              "    </tr>\n",
              "    <tr>\n",
              "      <th>3</th>\n",
              "      <td>Noelani</td>\n",
              "      <td>Wagner</td>\n",
              "      <td>female</td>\n",
              "      <td>14.0</td>\n",
              "      <td>2.0</td>\n",
              "      <td>7.0</td>\n",
              "      <td>83.2</td>\n",
              "      <td>8839 Marshall St., Miami, FL 33125</td>\n",
              "    </tr>\n",
              "    <tr>\n",
              "      <th>4</th>\n",
              "      <td>Noelani</td>\n",
              "      <td>Cherry</td>\n",
              "      <td>female</td>\n",
              "      <td>18.0</td>\n",
              "      <td>4.0</td>\n",
              "      <td>15.0</td>\n",
              "      <td>87.4</td>\n",
              "      <td>8304 Charles Rd., Lewis Center, OH 43035</td>\n",
              "    </tr>\n",
              "    <tr>\n",
              "      <th>...</th>\n",
              "      <td>...</td>\n",
              "      <td>...</td>\n",
              "      <td>...</td>\n",
              "      <td>...</td>\n",
              "      <td>...</td>\n",
              "      <td>...</td>\n",
              "      <td>...</td>\n",
              "      <td>...</td>\n",
              "    </tr>\n",
              "    <tr>\n",
              "      <th>1997</th>\n",
              "      <td>Cody</td>\n",
              "      <td>Shepherd</td>\n",
              "      <td>male</td>\n",
              "      <td>19.0</td>\n",
              "      <td>1.0</td>\n",
              "      <td>8.0</td>\n",
              "      <td>80.1</td>\n",
              "      <td>982 West Street, Alexandria, VA 22304</td>\n",
              "    </tr>\n",
              "    <tr>\n",
              "      <th>1998</th>\n",
              "      <td>Geraldine</td>\n",
              "      <td>Peterson</td>\n",
              "      <td>female</td>\n",
              "      <td>16.0</td>\n",
              "      <td>4.0</td>\n",
              "      <td>18.0</td>\n",
              "      <td>100.0</td>\n",
              "      <td>78 Morris Street, East Northport, NY 11731</td>\n",
              "    </tr>\n",
              "    <tr>\n",
              "      <th>1999</th>\n",
              "      <td>Mercedes</td>\n",
              "      <td>Leon</td>\n",
              "      <td>female</td>\n",
              "      <td>18.0</td>\n",
              "      <td>3.0</td>\n",
              "      <td>14.0</td>\n",
              "      <td>84.9</td>\n",
              "      <td>30 Glenridge Rd., Bountiful, UT 84010</td>\n",
              "    </tr>\n",
              "    <tr>\n",
              "      <th>2000</th>\n",
              "      <td>Lucius</td>\n",
              "      <td>Rowland</td>\n",
              "      <td>male</td>\n",
              "      <td>16.0</td>\n",
              "      <td>1.0</td>\n",
              "      <td>7.0</td>\n",
              "      <td>69.1</td>\n",
              "      <td>342 West Meadowbrook Lane, Helena, MT 59601</td>\n",
              "    </tr>\n",
              "    <tr>\n",
              "      <th>2001</th>\n",
              "      <td>Linus</td>\n",
              "      <td>Morris</td>\n",
              "      <td>male</td>\n",
              "      <td>19.0</td>\n",
              "      <td>4.0</td>\n",
              "      <td>10.0</td>\n",
              "      <td>79.6</td>\n",
              "      <td>81 Homestead Drive, Voorhees, NJ 08043</td>\n",
              "    </tr>\n",
              "  </tbody>\n",
              "</table>\n",
              "<p>2002 rows × 8 columns</p>\n",
              "</div>"
            ],
            "text/plain": [
              "          fname     lname  ...  grade                                      address\n",
              "0        Marcia      Pugh  ...   82.4      9253 Richardson Road, Matawan, NJ 07747\n",
              "1        Kadeem  Morrison  ...   78.2             33 Spring Dr., Taunton, MA 02780\n",
              "2          Nash    Powell  ...   79.3             41 Hill Avenue, Mentor, OH 44060\n",
              "3       Noelani    Wagner  ...   83.2           8839 Marshall St., Miami, FL 33125\n",
              "4       Noelani    Cherry  ...   87.4     8304 Charles Rd., Lewis Center, OH 43035\n",
              "...         ...       ...  ...    ...                                          ...\n",
              "1997       Cody  Shepherd  ...   80.1        982 West Street, Alexandria, VA 22304\n",
              "1998  Geraldine  Peterson  ...  100.0   78 Morris Street, East Northport, NY 11731\n",
              "1999   Mercedes      Leon  ...   84.9        30 Glenridge Rd., Bountiful, UT 84010\n",
              "2000     Lucius   Rowland  ...   69.1  342 West Meadowbrook Lane, Helena, MT 59601\n",
              "2001      Linus    Morris  ...   79.6       81 Homestead Drive, Voorhees, NJ 08043\n",
              "\n",
              "[2002 rows x 8 columns]"
            ]
          },
          "metadata": {
            "tags": []
          },
          "execution_count": 165
        }
      ]
    },
    {
      "cell_type": "code",
      "metadata": {
        "id": "PjOH5iAHsQAO",
        "outputId": "83e6625f-42cf-4435-9730-b4a661cdcc4c",
        "colab": {
          "base_uri": "https://localhost:8080/",
          "height": 1000
        }
      },
      "source": [
        "df.fillna(0)"
      ],
      "execution_count": 166,
      "outputs": [
        {
          "output_type": "execute_result",
          "data": {
            "text/html": [
              "<div>\n",
              "<style scoped>\n",
              "    .dataframe tbody tr th:only-of-type {\n",
              "        vertical-align: middle;\n",
              "    }\n",
              "\n",
              "    .dataframe tbody tr th {\n",
              "        vertical-align: top;\n",
              "    }\n",
              "\n",
              "    .dataframe thead th {\n",
              "        text-align: right;\n",
              "    }\n",
              "</style>\n",
              "<table border=\"1\" class=\"dataframe\">\n",
              "  <thead>\n",
              "    <tr style=\"text-align: right;\">\n",
              "      <th></th>\n",
              "      <th>fname</th>\n",
              "      <th>lname</th>\n",
              "      <th>gender</th>\n",
              "      <th>age</th>\n",
              "      <th>exercise</th>\n",
              "      <th>hours</th>\n",
              "      <th>grade</th>\n",
              "      <th>address</th>\n",
              "      <th>newcol</th>\n",
              "    </tr>\n",
              "  </thead>\n",
              "  <tbody>\n",
              "    <tr>\n",
              "      <th>0</th>\n",
              "      <td>Marcia</td>\n",
              "      <td>Pugh</td>\n",
              "      <td>female</td>\n",
              "      <td>17.0</td>\n",
              "      <td>3.0</td>\n",
              "      <td>10.0</td>\n",
              "      <td>82.4</td>\n",
              "      <td>9253 Richardson Road, Matawan, NJ 07747</td>\n",
              "      <td>0.0</td>\n",
              "    </tr>\n",
              "    <tr>\n",
              "      <th>1</th>\n",
              "      <td>Kadeem</td>\n",
              "      <td>Morrison</td>\n",
              "      <td>male</td>\n",
              "      <td>18.0</td>\n",
              "      <td>4.0</td>\n",
              "      <td>4.0</td>\n",
              "      <td>78.2</td>\n",
              "      <td>33 Spring Dr., Taunton, MA 02780</td>\n",
              "      <td>0.0</td>\n",
              "    </tr>\n",
              "    <tr>\n",
              "      <th>2</th>\n",
              "      <td>Nash</td>\n",
              "      <td>Powell</td>\n",
              "      <td>male</td>\n",
              "      <td>18.0</td>\n",
              "      <td>5.0</td>\n",
              "      <td>9.0</td>\n",
              "      <td>79.3</td>\n",
              "      <td>41 Hill Avenue, Mentor, OH 44060</td>\n",
              "      <td>0.0</td>\n",
              "    </tr>\n",
              "    <tr>\n",
              "      <th>3</th>\n",
              "      <td>Noelani</td>\n",
              "      <td>Wagner</td>\n",
              "      <td>female</td>\n",
              "      <td>14.0</td>\n",
              "      <td>2.0</td>\n",
              "      <td>7.0</td>\n",
              "      <td>83.2</td>\n",
              "      <td>8839 Marshall St., Miami, FL 33125</td>\n",
              "      <td>0.0</td>\n",
              "    </tr>\n",
              "    <tr>\n",
              "      <th>4</th>\n",
              "      <td>Noelani</td>\n",
              "      <td>Cherry</td>\n",
              "      <td>female</td>\n",
              "      <td>18.0</td>\n",
              "      <td>4.0</td>\n",
              "      <td>15.0</td>\n",
              "      <td>87.4</td>\n",
              "      <td>8304 Charles Rd., Lewis Center, OH 43035</td>\n",
              "      <td>0.0</td>\n",
              "    </tr>\n",
              "    <tr>\n",
              "      <th>...</th>\n",
              "      <td>...</td>\n",
              "      <td>...</td>\n",
              "      <td>...</td>\n",
              "      <td>...</td>\n",
              "      <td>...</td>\n",
              "      <td>...</td>\n",
              "      <td>...</td>\n",
              "      <td>...</td>\n",
              "      <td>...</td>\n",
              "    </tr>\n",
              "    <tr>\n",
              "      <th>1997</th>\n",
              "      <td>Cody</td>\n",
              "      <td>Shepherd</td>\n",
              "      <td>male</td>\n",
              "      <td>19.0</td>\n",
              "      <td>1.0</td>\n",
              "      <td>8.0</td>\n",
              "      <td>80.1</td>\n",
              "      <td>982 West Street, Alexandria, VA 22304</td>\n",
              "      <td>0.0</td>\n",
              "    </tr>\n",
              "    <tr>\n",
              "      <th>1998</th>\n",
              "      <td>Geraldine</td>\n",
              "      <td>Peterson</td>\n",
              "      <td>female</td>\n",
              "      <td>16.0</td>\n",
              "      <td>4.0</td>\n",
              "      <td>18.0</td>\n",
              "      <td>100.0</td>\n",
              "      <td>78 Morris Street, East Northport, NY 11731</td>\n",
              "      <td>0.0</td>\n",
              "    </tr>\n",
              "    <tr>\n",
              "      <th>1999</th>\n",
              "      <td>Mercedes</td>\n",
              "      <td>Leon</td>\n",
              "      <td>female</td>\n",
              "      <td>18.0</td>\n",
              "      <td>3.0</td>\n",
              "      <td>14.0</td>\n",
              "      <td>84.9</td>\n",
              "      <td>30 Glenridge Rd., Bountiful, UT 84010</td>\n",
              "      <td>0.0</td>\n",
              "    </tr>\n",
              "    <tr>\n",
              "      <th>2000</th>\n",
              "      <td>Lucius</td>\n",
              "      <td>Rowland</td>\n",
              "      <td>male</td>\n",
              "      <td>16.0</td>\n",
              "      <td>1.0</td>\n",
              "      <td>7.0</td>\n",
              "      <td>69.1</td>\n",
              "      <td>342 West Meadowbrook Lane, Helena, MT 59601</td>\n",
              "      <td>0.0</td>\n",
              "    </tr>\n",
              "    <tr>\n",
              "      <th>2001</th>\n",
              "      <td>Linus</td>\n",
              "      <td>Morris</td>\n",
              "      <td>male</td>\n",
              "      <td>19.0</td>\n",
              "      <td>4.0</td>\n",
              "      <td>10.0</td>\n",
              "      <td>79.6</td>\n",
              "      <td>81 Homestead Drive, Voorhees, NJ 08043</td>\n",
              "      <td>0.0</td>\n",
              "    </tr>\n",
              "  </tbody>\n",
              "</table>\n",
              "<p>2002 rows × 9 columns</p>\n",
              "</div>"
            ],
            "text/plain": [
              "          fname     lname  ...                                      address  newcol\n",
              "0        Marcia      Pugh  ...      9253 Richardson Road, Matawan, NJ 07747     0.0\n",
              "1        Kadeem  Morrison  ...             33 Spring Dr., Taunton, MA 02780     0.0\n",
              "2          Nash    Powell  ...             41 Hill Avenue, Mentor, OH 44060     0.0\n",
              "3       Noelani    Wagner  ...           8839 Marshall St., Miami, FL 33125     0.0\n",
              "4       Noelani    Cherry  ...     8304 Charles Rd., Lewis Center, OH 43035     0.0\n",
              "...         ...       ...  ...                                          ...     ...\n",
              "1997       Cody  Shepherd  ...        982 West Street, Alexandria, VA 22304     0.0\n",
              "1998  Geraldine  Peterson  ...   78 Morris Street, East Northport, NY 11731     0.0\n",
              "1999   Mercedes      Leon  ...        30 Glenridge Rd., Bountiful, UT 84010     0.0\n",
              "2000     Lucius   Rowland  ...  342 West Meadowbrook Lane, Helena, MT 59601     0.0\n",
              "2001      Linus    Morris  ...       81 Homestead Drive, Voorhees, NJ 08043     0.0\n",
              "\n",
              "[2002 rows x 9 columns]"
            ]
          },
          "metadata": {
            "tags": []
          },
          "execution_count": 166
        }
      ]
    },
    {
      "cell_type": "code",
      "metadata": {
        "id": "rdDeAX8VtJir",
        "outputId": "77a7e636-bbd3-4f2c-9f91-d09d5040e361",
        "colab": {
          "base_uri": "https://localhost:8080/",
          "height": 241
        }
      },
      "source": [
        "df[\"grade\"].fillna(df[\"grade\"].mean(), inplace=True)\n",
        "df['grade']"
      ],
      "execution_count": 167,
      "outputs": [
        {
          "output_type": "execute_result",
          "data": {
            "text/plain": [
              "0        82.4\n",
              "1        78.2\n",
              "2        79.3\n",
              "3        83.2\n",
              "4        87.4\n",
              "        ...  \n",
              "1997     80.1\n",
              "1998    100.0\n",
              "1999     84.9\n",
              "2000     69.1\n",
              "2001     79.6\n",
              "Name: grade, Length: 2002, dtype: float64"
            ]
          },
          "metadata": {
            "tags": []
          },
          "execution_count": 167
        }
      ]
    },
    {
      "cell_type": "code",
      "metadata": {
        "id": "msB54OLdtjyM",
        "outputId": "5eac7ae5-157b-4b40-9296-e89ff826b003",
        "colab": {
          "base_uri": "https://localhost:8080/",
          "height": 1000
        }
      },
      "source": [
        "df[\"grade\"].fillna(df.groupby(\"gender\")[\"grade\"].transform(\"mean\"), inplace=True)\n",
        "df"
      ],
      "execution_count": 168,
      "outputs": [
        {
          "output_type": "execute_result",
          "data": {
            "text/html": [
              "<div>\n",
              "<style scoped>\n",
              "    .dataframe tbody tr th:only-of-type {\n",
              "        vertical-align: middle;\n",
              "    }\n",
              "\n",
              "    .dataframe tbody tr th {\n",
              "        vertical-align: top;\n",
              "    }\n",
              "\n",
              "    .dataframe thead th {\n",
              "        text-align: right;\n",
              "    }\n",
              "</style>\n",
              "<table border=\"1\" class=\"dataframe\">\n",
              "  <thead>\n",
              "    <tr style=\"text-align: right;\">\n",
              "      <th></th>\n",
              "      <th>fname</th>\n",
              "      <th>lname</th>\n",
              "      <th>gender</th>\n",
              "      <th>age</th>\n",
              "      <th>exercise</th>\n",
              "      <th>hours</th>\n",
              "      <th>grade</th>\n",
              "      <th>address</th>\n",
              "      <th>newcol</th>\n",
              "    </tr>\n",
              "  </thead>\n",
              "  <tbody>\n",
              "    <tr>\n",
              "      <th>0</th>\n",
              "      <td>Marcia</td>\n",
              "      <td>Pugh</td>\n",
              "      <td>female</td>\n",
              "      <td>17.0</td>\n",
              "      <td>3.0</td>\n",
              "      <td>10.0</td>\n",
              "      <td>82.4</td>\n",
              "      <td>9253 Richardson Road, Matawan, NJ 07747</td>\n",
              "      <td>NaN</td>\n",
              "    </tr>\n",
              "    <tr>\n",
              "      <th>1</th>\n",
              "      <td>Kadeem</td>\n",
              "      <td>Morrison</td>\n",
              "      <td>male</td>\n",
              "      <td>18.0</td>\n",
              "      <td>4.0</td>\n",
              "      <td>4.0</td>\n",
              "      <td>78.2</td>\n",
              "      <td>33 Spring Dr., Taunton, MA 02780</td>\n",
              "      <td>NaN</td>\n",
              "    </tr>\n",
              "    <tr>\n",
              "      <th>2</th>\n",
              "      <td>Nash</td>\n",
              "      <td>Powell</td>\n",
              "      <td>male</td>\n",
              "      <td>18.0</td>\n",
              "      <td>5.0</td>\n",
              "      <td>9.0</td>\n",
              "      <td>79.3</td>\n",
              "      <td>41 Hill Avenue, Mentor, OH 44060</td>\n",
              "      <td>NaN</td>\n",
              "    </tr>\n",
              "    <tr>\n",
              "      <th>3</th>\n",
              "      <td>Noelani</td>\n",
              "      <td>Wagner</td>\n",
              "      <td>female</td>\n",
              "      <td>14.0</td>\n",
              "      <td>2.0</td>\n",
              "      <td>7.0</td>\n",
              "      <td>83.2</td>\n",
              "      <td>8839 Marshall St., Miami, FL 33125</td>\n",
              "      <td>NaN</td>\n",
              "    </tr>\n",
              "    <tr>\n",
              "      <th>4</th>\n",
              "      <td>Noelani</td>\n",
              "      <td>Cherry</td>\n",
              "      <td>female</td>\n",
              "      <td>18.0</td>\n",
              "      <td>4.0</td>\n",
              "      <td>15.0</td>\n",
              "      <td>87.4</td>\n",
              "      <td>8304 Charles Rd., Lewis Center, OH 43035</td>\n",
              "      <td>NaN</td>\n",
              "    </tr>\n",
              "    <tr>\n",
              "      <th>...</th>\n",
              "      <td>...</td>\n",
              "      <td>...</td>\n",
              "      <td>...</td>\n",
              "      <td>...</td>\n",
              "      <td>...</td>\n",
              "      <td>...</td>\n",
              "      <td>...</td>\n",
              "      <td>...</td>\n",
              "      <td>...</td>\n",
              "    </tr>\n",
              "    <tr>\n",
              "      <th>1997</th>\n",
              "      <td>Cody</td>\n",
              "      <td>Shepherd</td>\n",
              "      <td>male</td>\n",
              "      <td>19.0</td>\n",
              "      <td>1.0</td>\n",
              "      <td>8.0</td>\n",
              "      <td>80.1</td>\n",
              "      <td>982 West Street, Alexandria, VA 22304</td>\n",
              "      <td>NaN</td>\n",
              "    </tr>\n",
              "    <tr>\n",
              "      <th>1998</th>\n",
              "      <td>Geraldine</td>\n",
              "      <td>Peterson</td>\n",
              "      <td>female</td>\n",
              "      <td>16.0</td>\n",
              "      <td>4.0</td>\n",
              "      <td>18.0</td>\n",
              "      <td>100.0</td>\n",
              "      <td>78 Morris Street, East Northport, NY 11731</td>\n",
              "      <td>NaN</td>\n",
              "    </tr>\n",
              "    <tr>\n",
              "      <th>1999</th>\n",
              "      <td>Mercedes</td>\n",
              "      <td>Leon</td>\n",
              "      <td>female</td>\n",
              "      <td>18.0</td>\n",
              "      <td>3.0</td>\n",
              "      <td>14.0</td>\n",
              "      <td>84.9</td>\n",
              "      <td>30 Glenridge Rd., Bountiful, UT 84010</td>\n",
              "      <td>NaN</td>\n",
              "    </tr>\n",
              "    <tr>\n",
              "      <th>2000</th>\n",
              "      <td>Lucius</td>\n",
              "      <td>Rowland</td>\n",
              "      <td>male</td>\n",
              "      <td>16.0</td>\n",
              "      <td>1.0</td>\n",
              "      <td>7.0</td>\n",
              "      <td>69.1</td>\n",
              "      <td>342 West Meadowbrook Lane, Helena, MT 59601</td>\n",
              "      <td>NaN</td>\n",
              "    </tr>\n",
              "    <tr>\n",
              "      <th>2001</th>\n",
              "      <td>Linus</td>\n",
              "      <td>Morris</td>\n",
              "      <td>male</td>\n",
              "      <td>19.0</td>\n",
              "      <td>4.0</td>\n",
              "      <td>10.0</td>\n",
              "      <td>79.6</td>\n",
              "      <td>81 Homestead Drive, Voorhees, NJ 08043</td>\n",
              "      <td>NaN</td>\n",
              "    </tr>\n",
              "  </tbody>\n",
              "</table>\n",
              "<p>2002 rows × 9 columns</p>\n",
              "</div>"
            ],
            "text/plain": [
              "          fname     lname  ...                                      address  newcol\n",
              "0        Marcia      Pugh  ...      9253 Richardson Road, Matawan, NJ 07747     NaN\n",
              "1        Kadeem  Morrison  ...             33 Spring Dr., Taunton, MA 02780     NaN\n",
              "2          Nash    Powell  ...             41 Hill Avenue, Mentor, OH 44060     NaN\n",
              "3       Noelani    Wagner  ...           8839 Marshall St., Miami, FL 33125     NaN\n",
              "4       Noelani    Cherry  ...     8304 Charles Rd., Lewis Center, OH 43035     NaN\n",
              "...         ...       ...  ...                                          ...     ...\n",
              "1997       Cody  Shepherd  ...        982 West Street, Alexandria, VA 22304     NaN\n",
              "1998  Geraldine  Peterson  ...   78 Morris Street, East Northport, NY 11731     NaN\n",
              "1999   Mercedes      Leon  ...        30 Glenridge Rd., Bountiful, UT 84010     NaN\n",
              "2000     Lucius   Rowland  ...  342 West Meadowbrook Lane, Helena, MT 59601     NaN\n",
              "2001      Linus    Morris  ...       81 Homestead Drive, Voorhees, NJ 08043     NaN\n",
              "\n",
              "[2002 rows x 9 columns]"
            ]
          },
          "metadata": {
            "tags": []
          },
          "execution_count": 168
        }
      ]
    },
    {
      "cell_type": "code",
      "metadata": {
        "id": "5-vID4oIucIu",
        "outputId": "44728222-f705-4f0b-9027-7244212807c7",
        "colab": {
          "base_uri": "https://localhost:8080/",
          "height": 1000
        }
      },
      "source": [
        "df[df['age'].notnull() & df['gender'].notnull()]"
      ],
      "execution_count": 169,
      "outputs": [
        {
          "output_type": "execute_result",
          "data": {
            "text/html": [
              "<div>\n",
              "<style scoped>\n",
              "    .dataframe tbody tr th:only-of-type {\n",
              "        vertical-align: middle;\n",
              "    }\n",
              "\n",
              "    .dataframe tbody tr th {\n",
              "        vertical-align: top;\n",
              "    }\n",
              "\n",
              "    .dataframe thead th {\n",
              "        text-align: right;\n",
              "    }\n",
              "</style>\n",
              "<table border=\"1\" class=\"dataframe\">\n",
              "  <thead>\n",
              "    <tr style=\"text-align: right;\">\n",
              "      <th></th>\n",
              "      <th>fname</th>\n",
              "      <th>lname</th>\n",
              "      <th>gender</th>\n",
              "      <th>age</th>\n",
              "      <th>exercise</th>\n",
              "      <th>hours</th>\n",
              "      <th>grade</th>\n",
              "      <th>address</th>\n",
              "      <th>newcol</th>\n",
              "    </tr>\n",
              "  </thead>\n",
              "  <tbody>\n",
              "    <tr>\n",
              "      <th>0</th>\n",
              "      <td>Marcia</td>\n",
              "      <td>Pugh</td>\n",
              "      <td>female</td>\n",
              "      <td>17.0</td>\n",
              "      <td>3.0</td>\n",
              "      <td>10.0</td>\n",
              "      <td>82.4</td>\n",
              "      <td>9253 Richardson Road, Matawan, NJ 07747</td>\n",
              "      <td>NaN</td>\n",
              "    </tr>\n",
              "    <tr>\n",
              "      <th>1</th>\n",
              "      <td>Kadeem</td>\n",
              "      <td>Morrison</td>\n",
              "      <td>male</td>\n",
              "      <td>18.0</td>\n",
              "      <td>4.0</td>\n",
              "      <td>4.0</td>\n",
              "      <td>78.2</td>\n",
              "      <td>33 Spring Dr., Taunton, MA 02780</td>\n",
              "      <td>NaN</td>\n",
              "    </tr>\n",
              "    <tr>\n",
              "      <th>2</th>\n",
              "      <td>Nash</td>\n",
              "      <td>Powell</td>\n",
              "      <td>male</td>\n",
              "      <td>18.0</td>\n",
              "      <td>5.0</td>\n",
              "      <td>9.0</td>\n",
              "      <td>79.3</td>\n",
              "      <td>41 Hill Avenue, Mentor, OH 44060</td>\n",
              "      <td>NaN</td>\n",
              "    </tr>\n",
              "    <tr>\n",
              "      <th>3</th>\n",
              "      <td>Noelani</td>\n",
              "      <td>Wagner</td>\n",
              "      <td>female</td>\n",
              "      <td>14.0</td>\n",
              "      <td>2.0</td>\n",
              "      <td>7.0</td>\n",
              "      <td>83.2</td>\n",
              "      <td>8839 Marshall St., Miami, FL 33125</td>\n",
              "      <td>NaN</td>\n",
              "    </tr>\n",
              "    <tr>\n",
              "      <th>4</th>\n",
              "      <td>Noelani</td>\n",
              "      <td>Cherry</td>\n",
              "      <td>female</td>\n",
              "      <td>18.0</td>\n",
              "      <td>4.0</td>\n",
              "      <td>15.0</td>\n",
              "      <td>87.4</td>\n",
              "      <td>8304 Charles Rd., Lewis Center, OH 43035</td>\n",
              "      <td>NaN</td>\n",
              "    </tr>\n",
              "    <tr>\n",
              "      <th>...</th>\n",
              "      <td>...</td>\n",
              "      <td>...</td>\n",
              "      <td>...</td>\n",
              "      <td>...</td>\n",
              "      <td>...</td>\n",
              "      <td>...</td>\n",
              "      <td>...</td>\n",
              "      <td>...</td>\n",
              "      <td>...</td>\n",
              "    </tr>\n",
              "    <tr>\n",
              "      <th>1997</th>\n",
              "      <td>Cody</td>\n",
              "      <td>Shepherd</td>\n",
              "      <td>male</td>\n",
              "      <td>19.0</td>\n",
              "      <td>1.0</td>\n",
              "      <td>8.0</td>\n",
              "      <td>80.1</td>\n",
              "      <td>982 West Street, Alexandria, VA 22304</td>\n",
              "      <td>NaN</td>\n",
              "    </tr>\n",
              "    <tr>\n",
              "      <th>1998</th>\n",
              "      <td>Geraldine</td>\n",
              "      <td>Peterson</td>\n",
              "      <td>female</td>\n",
              "      <td>16.0</td>\n",
              "      <td>4.0</td>\n",
              "      <td>18.0</td>\n",
              "      <td>100.0</td>\n",
              "      <td>78 Morris Street, East Northport, NY 11731</td>\n",
              "      <td>NaN</td>\n",
              "    </tr>\n",
              "    <tr>\n",
              "      <th>1999</th>\n",
              "      <td>Mercedes</td>\n",
              "      <td>Leon</td>\n",
              "      <td>female</td>\n",
              "      <td>18.0</td>\n",
              "      <td>3.0</td>\n",
              "      <td>14.0</td>\n",
              "      <td>84.9</td>\n",
              "      <td>30 Glenridge Rd., Bountiful, UT 84010</td>\n",
              "      <td>NaN</td>\n",
              "    </tr>\n",
              "    <tr>\n",
              "      <th>2000</th>\n",
              "      <td>Lucius</td>\n",
              "      <td>Rowland</td>\n",
              "      <td>male</td>\n",
              "      <td>16.0</td>\n",
              "      <td>1.0</td>\n",
              "      <td>7.0</td>\n",
              "      <td>69.1</td>\n",
              "      <td>342 West Meadowbrook Lane, Helena, MT 59601</td>\n",
              "      <td>NaN</td>\n",
              "    </tr>\n",
              "    <tr>\n",
              "      <th>2001</th>\n",
              "      <td>Linus</td>\n",
              "      <td>Morris</td>\n",
              "      <td>male</td>\n",
              "      <td>19.0</td>\n",
              "      <td>4.0</td>\n",
              "      <td>10.0</td>\n",
              "      <td>79.6</td>\n",
              "      <td>81 Homestead Drive, Voorhees, NJ 08043</td>\n",
              "      <td>NaN</td>\n",
              "    </tr>\n",
              "  </tbody>\n",
              "</table>\n",
              "<p>1993 rows × 9 columns</p>\n",
              "</div>"
            ],
            "text/plain": [
              "          fname     lname  ...                                      address  newcol\n",
              "0        Marcia      Pugh  ...      9253 Richardson Road, Matawan, NJ 07747     NaN\n",
              "1        Kadeem  Morrison  ...             33 Spring Dr., Taunton, MA 02780     NaN\n",
              "2          Nash    Powell  ...             41 Hill Avenue, Mentor, OH 44060     NaN\n",
              "3       Noelani    Wagner  ...           8839 Marshall St., Miami, FL 33125     NaN\n",
              "4       Noelani    Cherry  ...     8304 Charles Rd., Lewis Center, OH 43035     NaN\n",
              "...         ...       ...  ...                                          ...     ...\n",
              "1997       Cody  Shepherd  ...        982 West Street, Alexandria, VA 22304     NaN\n",
              "1998  Geraldine  Peterson  ...   78 Morris Street, East Northport, NY 11731     NaN\n",
              "1999   Mercedes      Leon  ...        30 Glenridge Rd., Bountiful, UT 84010     NaN\n",
              "2000     Lucius   Rowland  ...  342 West Meadowbrook Lane, Helena, MT 59601     NaN\n",
              "2001      Linus    Morris  ...       81 Homestead Drive, Voorhees, NJ 08043     NaN\n",
              "\n",
              "[1993 rows x 9 columns]"
            ]
          },
          "metadata": {
            "tags": []
          },
          "execution_count": 169
        }
      ]
    },
    {
      "cell_type": "markdown",
      "metadata": {
        "id": "xdwc91CmvQMk"
      },
      "source": [
        "# **Filtrado de datos**"
      ]
    },
    {
      "cell_type": "code",
      "metadata": {
        "id": "hYpFgRiSvWfu",
        "outputId": "76d68b9f-ce23-4818-b807-4d2f83c6e517",
        "colab": {
          "base_uri": "https://localhost:8080/",
          "height": 224
        }
      },
      "source": [
        "import pandas as pd\n",
        "\n",
        "names = ['Bob','Jessica','Mary','John','Mel']\n",
        "grades = [76,-2,77,78,101]\n",
        "\n",
        "GradeList = zip(names,grades)\n",
        "\n",
        "df = pd.DataFrame(data = GradeList, columns=['Names', 'Grades'])\n",
        "df"
      ],
      "execution_count": 170,
      "outputs": [
        {
          "output_type": "execute_result",
          "data": {
            "text/html": [
              "<div>\n",
              "<style scoped>\n",
              "    .dataframe tbody tr th:only-of-type {\n",
              "        vertical-align: middle;\n",
              "    }\n",
              "\n",
              "    .dataframe tbody tr th {\n",
              "        vertical-align: top;\n",
              "    }\n",
              "\n",
              "    .dataframe thead th {\n",
              "        text-align: right;\n",
              "    }\n",
              "</style>\n",
              "<table border=\"1\" class=\"dataframe\">\n",
              "  <thead>\n",
              "    <tr style=\"text-align: right;\">\n",
              "      <th></th>\n",
              "      <th>Names</th>\n",
              "      <th>Grades</th>\n",
              "    </tr>\n",
              "  </thead>\n",
              "  <tbody>\n",
              "    <tr>\n",
              "      <th>0</th>\n",
              "      <td>Bob</td>\n",
              "      <td>76</td>\n",
              "    </tr>\n",
              "    <tr>\n",
              "      <th>1</th>\n",
              "      <td>Jessica</td>\n",
              "      <td>-2</td>\n",
              "    </tr>\n",
              "    <tr>\n",
              "      <th>2</th>\n",
              "      <td>Mary</td>\n",
              "      <td>77</td>\n",
              "    </tr>\n",
              "    <tr>\n",
              "      <th>3</th>\n",
              "      <td>John</td>\n",
              "      <td>78</td>\n",
              "    </tr>\n",
              "    <tr>\n",
              "      <th>4</th>\n",
              "      <td>Mel</td>\n",
              "      <td>101</td>\n",
              "    </tr>\n",
              "  </tbody>\n",
              "</table>\n",
              "</div>"
            ],
            "text/plain": [
              "     Names  Grades\n",
              "0      Bob      76\n",
              "1  Jessica      -2\n",
              "2     Mary      77\n",
              "3     John      78\n",
              "4      Mel     101"
            ]
          },
          "metadata": {
            "tags": []
          },
          "execution_count": 170
        }
      ]
    },
    {
      "cell_type": "code",
      "metadata": {
        "id": "mC5qYaXpvsP5",
        "outputId": "a32d3fd0-94a6-4cdb-9376-dd6ee6f2990f",
        "colab": {
          "base_uri": "https://localhost:8080/",
          "height": 193
        }
      },
      "source": [
        "df.loc[df['Grades'] <= 100]"
      ],
      "execution_count": 171,
      "outputs": [
        {
          "output_type": "execute_result",
          "data": {
            "text/html": [
              "<div>\n",
              "<style scoped>\n",
              "    .dataframe tbody tr th:only-of-type {\n",
              "        vertical-align: middle;\n",
              "    }\n",
              "\n",
              "    .dataframe tbody tr th {\n",
              "        vertical-align: top;\n",
              "    }\n",
              "\n",
              "    .dataframe thead th {\n",
              "        text-align: right;\n",
              "    }\n",
              "</style>\n",
              "<table border=\"1\" class=\"dataframe\">\n",
              "  <thead>\n",
              "    <tr style=\"text-align: right;\">\n",
              "      <th></th>\n",
              "      <th>Names</th>\n",
              "      <th>Grades</th>\n",
              "    </tr>\n",
              "  </thead>\n",
              "  <tbody>\n",
              "    <tr>\n",
              "      <th>0</th>\n",
              "      <td>Bob</td>\n",
              "      <td>76</td>\n",
              "    </tr>\n",
              "    <tr>\n",
              "      <th>1</th>\n",
              "      <td>Jessica</td>\n",
              "      <td>-2</td>\n",
              "    </tr>\n",
              "    <tr>\n",
              "      <th>2</th>\n",
              "      <td>Mary</td>\n",
              "      <td>77</td>\n",
              "    </tr>\n",
              "    <tr>\n",
              "      <th>3</th>\n",
              "      <td>John</td>\n",
              "      <td>78</td>\n",
              "    </tr>\n",
              "  </tbody>\n",
              "</table>\n",
              "</div>"
            ],
            "text/plain": [
              "     Names  Grades\n",
              "0      Bob      76\n",
              "1  Jessica      -2\n",
              "2     Mary      77\n",
              "3     John      78"
            ]
          },
          "metadata": {
            "tags": []
          },
          "execution_count": 171
        }
      ]
    },
    {
      "cell_type": "code",
      "metadata": {
        "id": "7cuz15kdxhIe",
        "outputId": "e0a97198-651f-4aed-e1b7-a1fa9d1562ff",
        "colab": {
          "base_uri": "https://localhost:8080/",
          "height": 224
        }
      },
      "source": [
        "df"
      ],
      "execution_count": 172,
      "outputs": [
        {
          "output_type": "execute_result",
          "data": {
            "text/html": [
              "<div>\n",
              "<style scoped>\n",
              "    .dataframe tbody tr th:only-of-type {\n",
              "        vertical-align: middle;\n",
              "    }\n",
              "\n",
              "    .dataframe tbody tr th {\n",
              "        vertical-align: top;\n",
              "    }\n",
              "\n",
              "    .dataframe thead th {\n",
              "        text-align: right;\n",
              "    }\n",
              "</style>\n",
              "<table border=\"1\" class=\"dataframe\">\n",
              "  <thead>\n",
              "    <tr style=\"text-align: right;\">\n",
              "      <th></th>\n",
              "      <th>Names</th>\n",
              "      <th>Grades</th>\n",
              "    </tr>\n",
              "  </thead>\n",
              "  <tbody>\n",
              "    <tr>\n",
              "      <th>0</th>\n",
              "      <td>Bob</td>\n",
              "      <td>76</td>\n",
              "    </tr>\n",
              "    <tr>\n",
              "      <th>1</th>\n",
              "      <td>Jessica</td>\n",
              "      <td>-2</td>\n",
              "    </tr>\n",
              "    <tr>\n",
              "      <th>2</th>\n",
              "      <td>Mary</td>\n",
              "      <td>77</td>\n",
              "    </tr>\n",
              "    <tr>\n",
              "      <th>3</th>\n",
              "      <td>John</td>\n",
              "      <td>78</td>\n",
              "    </tr>\n",
              "    <tr>\n",
              "      <th>4</th>\n",
              "      <td>Mel</td>\n",
              "      <td>101</td>\n",
              "    </tr>\n",
              "  </tbody>\n",
              "</table>\n",
              "</div>"
            ],
            "text/plain": [
              "     Names  Grades\n",
              "0      Bob      76\n",
              "1  Jessica      -2\n",
              "2     Mary      77\n",
              "3     John      78\n",
              "4      Mel     101"
            ]
          },
          "metadata": {
            "tags": []
          },
          "execution_count": 172
        }
      ]
    },
    {
      "cell_type": "code",
      "metadata": {
        "id": "Cq2t2BAbwq7f",
        "outputId": "ca1aa395-5b96-4ce8-ea4b-cc984a6f0f64",
        "colab": {
          "base_uri": "https://localhost:8080/",
          "height": 224
        }
      },
      "source": [
        "df.loc[(df['Grades'] >= 100,'Grades')] = 100\n",
        "df"
      ],
      "execution_count": 173,
      "outputs": [
        {
          "output_type": "execute_result",
          "data": {
            "text/html": [
              "<div>\n",
              "<style scoped>\n",
              "    .dataframe tbody tr th:only-of-type {\n",
              "        vertical-align: middle;\n",
              "    }\n",
              "\n",
              "    .dataframe tbody tr th {\n",
              "        vertical-align: top;\n",
              "    }\n",
              "\n",
              "    .dataframe thead th {\n",
              "        text-align: right;\n",
              "    }\n",
              "</style>\n",
              "<table border=\"1\" class=\"dataframe\">\n",
              "  <thead>\n",
              "    <tr style=\"text-align: right;\">\n",
              "      <th></th>\n",
              "      <th>Names</th>\n",
              "      <th>Grades</th>\n",
              "    </tr>\n",
              "  </thead>\n",
              "  <tbody>\n",
              "    <tr>\n",
              "      <th>0</th>\n",
              "      <td>Bob</td>\n",
              "      <td>76</td>\n",
              "    </tr>\n",
              "    <tr>\n",
              "      <th>1</th>\n",
              "      <td>Jessica</td>\n",
              "      <td>-2</td>\n",
              "    </tr>\n",
              "    <tr>\n",
              "      <th>2</th>\n",
              "      <td>Mary</td>\n",
              "      <td>77</td>\n",
              "    </tr>\n",
              "    <tr>\n",
              "      <th>3</th>\n",
              "      <td>John</td>\n",
              "      <td>78</td>\n",
              "    </tr>\n",
              "    <tr>\n",
              "      <th>4</th>\n",
              "      <td>Mel</td>\n",
              "      <td>100</td>\n",
              "    </tr>\n",
              "  </tbody>\n",
              "</table>\n",
              "</div>"
            ],
            "text/plain": [
              "     Names  Grades\n",
              "0      Bob      76\n",
              "1  Jessica      -2\n",
              "2     Mary      77\n",
              "3     John      78\n",
              "4      Mel     100"
            ]
          },
          "metadata": {
            "tags": []
          },
          "execution_count": 173
        }
      ]
    },
    {
      "cell_type": "code",
      "metadata": {
        "id": "qgXWg1fyxA2a",
        "outputId": "da9d357c-a1e8-4072-b99a-f1974eaaf21d",
        "colab": {
          "base_uri": "https://localhost:8080/",
          "height": 224
        }
      },
      "source": [
        "df.loc[(df['Grades'] < 0,'Grades')] = 0\n",
        "df"
      ],
      "execution_count": 174,
      "outputs": [
        {
          "output_type": "execute_result",
          "data": {
            "text/html": [
              "<div>\n",
              "<style scoped>\n",
              "    .dataframe tbody tr th:only-of-type {\n",
              "        vertical-align: middle;\n",
              "    }\n",
              "\n",
              "    .dataframe tbody tr th {\n",
              "        vertical-align: top;\n",
              "    }\n",
              "\n",
              "    .dataframe thead th {\n",
              "        text-align: right;\n",
              "    }\n",
              "</style>\n",
              "<table border=\"1\" class=\"dataframe\">\n",
              "  <thead>\n",
              "    <tr style=\"text-align: right;\">\n",
              "      <th></th>\n",
              "      <th>Names</th>\n",
              "      <th>Grades</th>\n",
              "    </tr>\n",
              "  </thead>\n",
              "  <tbody>\n",
              "    <tr>\n",
              "      <th>0</th>\n",
              "      <td>Bob</td>\n",
              "      <td>76</td>\n",
              "    </tr>\n",
              "    <tr>\n",
              "      <th>1</th>\n",
              "      <td>Jessica</td>\n",
              "      <td>0</td>\n",
              "    </tr>\n",
              "    <tr>\n",
              "      <th>2</th>\n",
              "      <td>Mary</td>\n",
              "      <td>77</td>\n",
              "    </tr>\n",
              "    <tr>\n",
              "      <th>3</th>\n",
              "      <td>John</td>\n",
              "      <td>78</td>\n",
              "    </tr>\n",
              "    <tr>\n",
              "      <th>4</th>\n",
              "      <td>Mel</td>\n",
              "      <td>100</td>\n",
              "    </tr>\n",
              "  </tbody>\n",
              "</table>\n",
              "</div>"
            ],
            "text/plain": [
              "     Names  Grades\n",
              "0      Bob      76\n",
              "1  Jessica       0\n",
              "2     Mary      77\n",
              "3     John      78\n",
              "4      Mel     100"
            ]
          },
          "metadata": {
            "tags": []
          },
          "execution_count": 174
        }
      ]
    },
    {
      "cell_type": "markdown",
      "metadata": {
        "id": "-GI6029JzJeO"
      },
      "source": [
        "# **Buscando renglones duplicados**"
      ]
    },
    {
      "cell_type": "code",
      "metadata": {
        "id": "1qfKFFzAzNm8",
        "outputId": "c9cb1972-2593-4868-c85d-2a0656cba492",
        "colab": {
          "base_uri": "https://localhost:8080/",
          "height": 317
        }
      },
      "source": [
        "import pandas as pd\n",
        "\n",
        "names = ['Jan','John','Bob','Jan','Mary','John','Mel','Mel']\n",
        "grades = [95,78,76,95,77,78,99,100]\n",
        "\n",
        "GradeList = zip(names,grades)\n",
        "\n",
        "df = pd.DataFrame(data = GradeList, columns=['Names', 'Grades'])\n",
        "df"
      ],
      "execution_count": 175,
      "outputs": [
        {
          "output_type": "execute_result",
          "data": {
            "text/html": [
              "<div>\n",
              "<style scoped>\n",
              "    .dataframe tbody tr th:only-of-type {\n",
              "        vertical-align: middle;\n",
              "    }\n",
              "\n",
              "    .dataframe tbody tr th {\n",
              "        vertical-align: top;\n",
              "    }\n",
              "\n",
              "    .dataframe thead th {\n",
              "        text-align: right;\n",
              "    }\n",
              "</style>\n",
              "<table border=\"1\" class=\"dataframe\">\n",
              "  <thead>\n",
              "    <tr style=\"text-align: right;\">\n",
              "      <th></th>\n",
              "      <th>Names</th>\n",
              "      <th>Grades</th>\n",
              "    </tr>\n",
              "  </thead>\n",
              "  <tbody>\n",
              "    <tr>\n",
              "      <th>0</th>\n",
              "      <td>Jan</td>\n",
              "      <td>95</td>\n",
              "    </tr>\n",
              "    <tr>\n",
              "      <th>1</th>\n",
              "      <td>John</td>\n",
              "      <td>78</td>\n",
              "    </tr>\n",
              "    <tr>\n",
              "      <th>2</th>\n",
              "      <td>Bob</td>\n",
              "      <td>76</td>\n",
              "    </tr>\n",
              "    <tr>\n",
              "      <th>3</th>\n",
              "      <td>Jan</td>\n",
              "      <td>95</td>\n",
              "    </tr>\n",
              "    <tr>\n",
              "      <th>4</th>\n",
              "      <td>Mary</td>\n",
              "      <td>77</td>\n",
              "    </tr>\n",
              "    <tr>\n",
              "      <th>5</th>\n",
              "      <td>John</td>\n",
              "      <td>78</td>\n",
              "    </tr>\n",
              "    <tr>\n",
              "      <th>6</th>\n",
              "      <td>Mel</td>\n",
              "      <td>99</td>\n",
              "    </tr>\n",
              "    <tr>\n",
              "      <th>7</th>\n",
              "      <td>Mel</td>\n",
              "      <td>100</td>\n",
              "    </tr>\n",
              "  </tbody>\n",
              "</table>\n",
              "</div>"
            ],
            "text/plain": [
              "  Names  Grades\n",
              "0   Jan      95\n",
              "1  John      78\n",
              "2   Bob      76\n",
              "3   Jan      95\n",
              "4  Mary      77\n",
              "5  John      78\n",
              "6   Mel      99\n",
              "7   Mel     100"
            ]
          },
          "metadata": {
            "tags": []
          },
          "execution_count": 175
        }
      ]
    },
    {
      "cell_type": "code",
      "metadata": {
        "id": "3OBkuQQRzqWf",
        "outputId": "099e3def-a1b1-44a0-ee7a-18cb18786c8c",
        "colab": {
          "base_uri": "https://localhost:8080/",
          "height": 190
        }
      },
      "source": [
        "df.duplicated()"
      ],
      "execution_count": 176,
      "outputs": [
        {
          "output_type": "execute_result",
          "data": {
            "text/plain": [
              "0    False\n",
              "1    False\n",
              "2    False\n",
              "3     True\n",
              "4    False\n",
              "5     True\n",
              "6    False\n",
              "7    False\n",
              "dtype: bool"
            ]
          },
          "metadata": {
            "tags": []
          },
          "execution_count": 176
        }
      ]
    },
    {
      "cell_type": "code",
      "metadata": {
        "id": "UjqaWcuM0Q5u",
        "outputId": "54dfa350-00e0-4ff3-97ea-5cb4c2f94677",
        "colab": {
          "base_uri": "https://localhost:8080/",
          "height": 255
        }
      },
      "source": [
        "df.drop_duplicates()"
      ],
      "execution_count": 177,
      "outputs": [
        {
          "output_type": "execute_result",
          "data": {
            "text/html": [
              "<div>\n",
              "<style scoped>\n",
              "    .dataframe tbody tr th:only-of-type {\n",
              "        vertical-align: middle;\n",
              "    }\n",
              "\n",
              "    .dataframe tbody tr th {\n",
              "        vertical-align: top;\n",
              "    }\n",
              "\n",
              "    .dataframe thead th {\n",
              "        text-align: right;\n",
              "    }\n",
              "</style>\n",
              "<table border=\"1\" class=\"dataframe\">\n",
              "  <thead>\n",
              "    <tr style=\"text-align: right;\">\n",
              "      <th></th>\n",
              "      <th>Names</th>\n",
              "      <th>Grades</th>\n",
              "    </tr>\n",
              "  </thead>\n",
              "  <tbody>\n",
              "    <tr>\n",
              "      <th>0</th>\n",
              "      <td>Jan</td>\n",
              "      <td>95</td>\n",
              "    </tr>\n",
              "    <tr>\n",
              "      <th>1</th>\n",
              "      <td>John</td>\n",
              "      <td>78</td>\n",
              "    </tr>\n",
              "    <tr>\n",
              "      <th>2</th>\n",
              "      <td>Bob</td>\n",
              "      <td>76</td>\n",
              "    </tr>\n",
              "    <tr>\n",
              "      <th>4</th>\n",
              "      <td>Mary</td>\n",
              "      <td>77</td>\n",
              "    </tr>\n",
              "    <tr>\n",
              "      <th>6</th>\n",
              "      <td>Mel</td>\n",
              "      <td>99</td>\n",
              "    </tr>\n",
              "    <tr>\n",
              "      <th>7</th>\n",
              "      <td>Mel</td>\n",
              "      <td>100</td>\n",
              "    </tr>\n",
              "  </tbody>\n",
              "</table>\n",
              "</div>"
            ],
            "text/plain": [
              "  Names  Grades\n",
              "0   Jan      95\n",
              "1  John      78\n",
              "2   Bob      76\n",
              "4  Mary      77\n",
              "6   Mel      99\n",
              "7   Mel     100"
            ]
          },
          "metadata": {
            "tags": []
          },
          "execution_count": 177
        }
      ]
    },
    {
      "cell_type": "code",
      "metadata": {
        "id": "3RvLKvnT0yEO",
        "outputId": "cf04b9df-ad59-44de-8dfa-4ae7de798a3b",
        "colab": {
          "base_uri": "https://localhost:8080/",
          "height": 224
        }
      },
      "source": [
        "df.drop_duplicates(['Names'], keep='last')"
      ],
      "execution_count": 178,
      "outputs": [
        {
          "output_type": "execute_result",
          "data": {
            "text/html": [
              "<div>\n",
              "<style scoped>\n",
              "    .dataframe tbody tr th:only-of-type {\n",
              "        vertical-align: middle;\n",
              "    }\n",
              "\n",
              "    .dataframe tbody tr th {\n",
              "        vertical-align: top;\n",
              "    }\n",
              "\n",
              "    .dataframe thead th {\n",
              "        text-align: right;\n",
              "    }\n",
              "</style>\n",
              "<table border=\"1\" class=\"dataframe\">\n",
              "  <thead>\n",
              "    <tr style=\"text-align: right;\">\n",
              "      <th></th>\n",
              "      <th>Names</th>\n",
              "      <th>Grades</th>\n",
              "    </tr>\n",
              "  </thead>\n",
              "  <tbody>\n",
              "    <tr>\n",
              "      <th>2</th>\n",
              "      <td>Bob</td>\n",
              "      <td>76</td>\n",
              "    </tr>\n",
              "    <tr>\n",
              "      <th>3</th>\n",
              "      <td>Jan</td>\n",
              "      <td>95</td>\n",
              "    </tr>\n",
              "    <tr>\n",
              "      <th>4</th>\n",
              "      <td>Mary</td>\n",
              "      <td>77</td>\n",
              "    </tr>\n",
              "    <tr>\n",
              "      <th>5</th>\n",
              "      <td>John</td>\n",
              "      <td>78</td>\n",
              "    </tr>\n",
              "    <tr>\n",
              "      <th>7</th>\n",
              "      <td>Mel</td>\n",
              "      <td>100</td>\n",
              "    </tr>\n",
              "  </tbody>\n",
              "</table>\n",
              "</div>"
            ],
            "text/plain": [
              "  Names  Grades\n",
              "2   Bob      76\n",
              "3   Jan      95\n",
              "4  Mary      77\n",
              "5  John      78\n",
              "7   Mel     100"
            ]
          },
          "metadata": {
            "tags": []
          },
          "execution_count": 178
        }
      ]
    },
    {
      "cell_type": "markdown",
      "metadata": {
        "id": "jYMnmpVT1B6n"
      },
      "source": [
        "**TAREA** Load the dataset datasets/dupedata.csv. We figure people with the same\n",
        "address are duplicates. Can you drop the duplicated rows while keeping\n",
        "the first?"
      ]
    },
    {
      "cell_type": "code",
      "metadata": {
        "id": "7fUp6r9WVd5_",
        "outputId": "0b40c7fa-cdb0-4915-d02e-8de34f8fdba0",
        "colab": {
          "base_uri": "https://localhost:8080/",
          "height": 1000
        }
      },
      "source": [
        "import pandas as pd\n",
        "Location = \"/content/drive/My Drive/Colab Notebooks/datasets/dupedata.csv\"\n",
        "df = pd.read_csv(Location)\n",
        "\n",
        "df.drop_duplicates(['address'], keep='first')"
      ],
      "execution_count": 179,
      "outputs": [
        {
          "output_type": "execute_result",
          "data": {
            "text/html": [
              "<div>\n",
              "<style scoped>\n",
              "    .dataframe tbody tr th:only-of-type {\n",
              "        vertical-align: middle;\n",
              "    }\n",
              "\n",
              "    .dataframe tbody tr th {\n",
              "        vertical-align: top;\n",
              "    }\n",
              "\n",
              "    .dataframe thead th {\n",
              "        text-align: right;\n",
              "    }\n",
              "</style>\n",
              "<table border=\"1\" class=\"dataframe\">\n",
              "  <thead>\n",
              "    <tr style=\"text-align: right;\">\n",
              "      <th></th>\n",
              "      <th>fname</th>\n",
              "      <th>lname</th>\n",
              "      <th>gender</th>\n",
              "      <th>age</th>\n",
              "      <th>exercise</th>\n",
              "      <th>hours</th>\n",
              "      <th>grade</th>\n",
              "      <th>address</th>\n",
              "    </tr>\n",
              "  </thead>\n",
              "  <tbody>\n",
              "    <tr>\n",
              "      <th>0</th>\n",
              "      <td>Marcia</td>\n",
              "      <td>Pugh</td>\n",
              "      <td>female</td>\n",
              "      <td>17</td>\n",
              "      <td>3</td>\n",
              "      <td>10</td>\n",
              "      <td>82.4</td>\n",
              "      <td>9253 Richardson Road, Matawan, NJ 07747</td>\n",
              "    </tr>\n",
              "    <tr>\n",
              "      <th>1</th>\n",
              "      <td>Kadeem</td>\n",
              "      <td>Morrison</td>\n",
              "      <td>male</td>\n",
              "      <td>18</td>\n",
              "      <td>4</td>\n",
              "      <td>4</td>\n",
              "      <td>78.2</td>\n",
              "      <td>33 Spring Dr., Taunton, MA 02780</td>\n",
              "    </tr>\n",
              "    <tr>\n",
              "      <th>2</th>\n",
              "      <td>Nash</td>\n",
              "      <td>Powell</td>\n",
              "      <td>male</td>\n",
              "      <td>18</td>\n",
              "      <td>5</td>\n",
              "      <td>9</td>\n",
              "      <td>79.3</td>\n",
              "      <td>41 Hill Avenue, Mentor, OH 44060</td>\n",
              "    </tr>\n",
              "    <tr>\n",
              "      <th>3</th>\n",
              "      <td>Noelani</td>\n",
              "      <td>Wagner</td>\n",
              "      <td>female</td>\n",
              "      <td>14</td>\n",
              "      <td>2</td>\n",
              "      <td>7</td>\n",
              "      <td>83.2</td>\n",
              "      <td>8839 Marshall St., Miami, FL 33125</td>\n",
              "    </tr>\n",
              "    <tr>\n",
              "      <th>4</th>\n",
              "      <td>Noelani</td>\n",
              "      <td>Cherry</td>\n",
              "      <td>female</td>\n",
              "      <td>18</td>\n",
              "      <td>4</td>\n",
              "      <td>15</td>\n",
              "      <td>87.4</td>\n",
              "      <td>8304 Charles Rd., Lewis Center, OH 43035</td>\n",
              "    </tr>\n",
              "    <tr>\n",
              "      <th>...</th>\n",
              "      <td>...</td>\n",
              "      <td>...</td>\n",
              "      <td>...</td>\n",
              "      <td>...</td>\n",
              "      <td>...</td>\n",
              "      <td>...</td>\n",
              "      <td>...</td>\n",
              "      <td>...</td>\n",
              "    </tr>\n",
              "    <tr>\n",
              "      <th>2001</th>\n",
              "      <td>Cody</td>\n",
              "      <td>Shepherd</td>\n",
              "      <td>male</td>\n",
              "      <td>19</td>\n",
              "      <td>1</td>\n",
              "      <td>8</td>\n",
              "      <td>80.1</td>\n",
              "      <td>982 West Street, Alexandria, VA 22304</td>\n",
              "    </tr>\n",
              "    <tr>\n",
              "      <th>2002</th>\n",
              "      <td>Geraldine</td>\n",
              "      <td>Peterson</td>\n",
              "      <td>female</td>\n",
              "      <td>16</td>\n",
              "      <td>4</td>\n",
              "      <td>18</td>\n",
              "      <td>100.0</td>\n",
              "      <td>78 Morris Street, East Northport, NY 11731</td>\n",
              "    </tr>\n",
              "    <tr>\n",
              "      <th>2003</th>\n",
              "      <td>Mercedes</td>\n",
              "      <td>Leon</td>\n",
              "      <td>female</td>\n",
              "      <td>18</td>\n",
              "      <td>3</td>\n",
              "      <td>14</td>\n",
              "      <td>84.9</td>\n",
              "      <td>30 Glenridge Rd., Bountiful, UT 84010</td>\n",
              "    </tr>\n",
              "    <tr>\n",
              "      <th>2004</th>\n",
              "      <td>Lucius</td>\n",
              "      <td>Rowland</td>\n",
              "      <td>male</td>\n",
              "      <td>16</td>\n",
              "      <td>1</td>\n",
              "      <td>7</td>\n",
              "      <td>69.1</td>\n",
              "      <td>342 West Meadowbrook Lane, Helena, MT 59601</td>\n",
              "    </tr>\n",
              "    <tr>\n",
              "      <th>2005</th>\n",
              "      <td>Linus</td>\n",
              "      <td>Morris</td>\n",
              "      <td>male</td>\n",
              "      <td>19</td>\n",
              "      <td>4</td>\n",
              "      <td>10</td>\n",
              "      <td>79.6</td>\n",
              "      <td>81 Homestead Drive, Voorhees, NJ 08043</td>\n",
              "    </tr>\n",
              "  </tbody>\n",
              "</table>\n",
              "<p>2000 rows × 8 columns</p>\n",
              "</div>"
            ],
            "text/plain": [
              "          fname     lname  ...  grade                                      address\n",
              "0        Marcia      Pugh  ...   82.4      9253 Richardson Road, Matawan, NJ 07747\n",
              "1        Kadeem  Morrison  ...   78.2             33 Spring Dr., Taunton, MA 02780\n",
              "2          Nash    Powell  ...   79.3             41 Hill Avenue, Mentor, OH 44060\n",
              "3       Noelani    Wagner  ...   83.2           8839 Marshall St., Miami, FL 33125\n",
              "4       Noelani    Cherry  ...   87.4     8304 Charles Rd., Lewis Center, OH 43035\n",
              "...         ...       ...  ...    ...                                          ...\n",
              "2001       Cody  Shepherd  ...   80.1        982 West Street, Alexandria, VA 22304\n",
              "2002  Geraldine  Peterson  ...  100.0   78 Morris Street, East Northport, NY 11731\n",
              "2003   Mercedes      Leon  ...   84.9        30 Glenridge Rd., Bountiful, UT 84010\n",
              "2004     Lucius   Rowland  ...   69.1  342 West Meadowbrook Lane, Helena, MT 59601\n",
              "2005      Linus    Morris  ...   79.6       81 Homestead Drive, Voorhees, NJ 08043\n",
              "\n",
              "[2000 rows x 8 columns]"
            ]
          },
          "metadata": {
            "tags": []
          },
          "execution_count": 179
        }
      ]
    },
    {
      "cell_type": "markdown",
      "metadata": {
        "id": "qTso4UYf7rRf"
      },
      "source": [
        "# **Creación de nuevas variables**"
      ]
    },
    {
      "cell_type": "code",
      "metadata": {
        "id": "yLICoSls7vCW",
        "outputId": "6f31e1b3-fa2a-43d9-f174-0d42681d707c",
        "colab": {
          "base_uri": "https://localhost:8080/",
          "height": 238
        }
      },
      "source": [
        "import pandas as pd\n",
        "Location = \"/content/drive/My Drive/Colab Notebooks/datasets/gradedata.csv\"\n",
        "\n",
        "df = pd.read_csv(Location)\n",
        "df.head()"
      ],
      "execution_count": 189,
      "outputs": [
        {
          "output_type": "execute_result",
          "data": {
            "text/html": [
              "<div>\n",
              "<style scoped>\n",
              "    .dataframe tbody tr th:only-of-type {\n",
              "        vertical-align: middle;\n",
              "    }\n",
              "\n",
              "    .dataframe tbody tr th {\n",
              "        vertical-align: top;\n",
              "    }\n",
              "\n",
              "    .dataframe thead th {\n",
              "        text-align: right;\n",
              "    }\n",
              "</style>\n",
              "<table border=\"1\" class=\"dataframe\">\n",
              "  <thead>\n",
              "    <tr style=\"text-align: right;\">\n",
              "      <th></th>\n",
              "      <th>fname</th>\n",
              "      <th>lname</th>\n",
              "      <th>gender</th>\n",
              "      <th>age</th>\n",
              "      <th>exercise</th>\n",
              "      <th>hours</th>\n",
              "      <th>grade</th>\n",
              "      <th>address</th>\n",
              "    </tr>\n",
              "  </thead>\n",
              "  <tbody>\n",
              "    <tr>\n",
              "      <th>0</th>\n",
              "      <td>Marcia</td>\n",
              "      <td>Pugh</td>\n",
              "      <td>female</td>\n",
              "      <td>17</td>\n",
              "      <td>3</td>\n",
              "      <td>10</td>\n",
              "      <td>82.4</td>\n",
              "      <td>9253 Richardson Road, Matawan, NJ 07747</td>\n",
              "    </tr>\n",
              "    <tr>\n",
              "      <th>1</th>\n",
              "      <td>Kadeem</td>\n",
              "      <td>Morrison</td>\n",
              "      <td>male</td>\n",
              "      <td>18</td>\n",
              "      <td>4</td>\n",
              "      <td>4</td>\n",
              "      <td>78.2</td>\n",
              "      <td>33 Spring Dr., Taunton, MA 02780</td>\n",
              "    </tr>\n",
              "    <tr>\n",
              "      <th>2</th>\n",
              "      <td>Nash</td>\n",
              "      <td>Powell</td>\n",
              "      <td>male</td>\n",
              "      <td>18</td>\n",
              "      <td>5</td>\n",
              "      <td>9</td>\n",
              "      <td>79.3</td>\n",
              "      <td>41 Hill Avenue, Mentor, OH 44060</td>\n",
              "    </tr>\n",
              "    <tr>\n",
              "      <th>3</th>\n",
              "      <td>Noelani</td>\n",
              "      <td>Wagner</td>\n",
              "      <td>female</td>\n",
              "      <td>14</td>\n",
              "      <td>2</td>\n",
              "      <td>7</td>\n",
              "      <td>83.2</td>\n",
              "      <td>8839 Marshall St., Miami, FL 33125</td>\n",
              "    </tr>\n",
              "    <tr>\n",
              "      <th>4</th>\n",
              "      <td>Noelani</td>\n",
              "      <td>Cherry</td>\n",
              "      <td>female</td>\n",
              "      <td>18</td>\n",
              "      <td>4</td>\n",
              "      <td>15</td>\n",
              "      <td>87.4</td>\n",
              "      <td>8304 Charles Rd., Lewis Center, OH 43035</td>\n",
              "    </tr>\n",
              "  </tbody>\n",
              "</table>\n",
              "</div>"
            ],
            "text/plain": [
              "     fname     lname  ... grade                                   address\n",
              "0   Marcia      Pugh  ...  82.4   9253 Richardson Road, Matawan, NJ 07747\n",
              "1   Kadeem  Morrison  ...  78.2          33 Spring Dr., Taunton, MA 02780\n",
              "2     Nash    Powell  ...  79.3          41 Hill Avenue, Mentor, OH 44060\n",
              "3  Noelani    Wagner  ...  83.2        8839 Marshall St., Miami, FL 33125\n",
              "4  Noelani    Cherry  ...  87.4  8304 Charles Rd., Lewis Center, OH 43035\n",
              "\n",
              "[5 rows x 8 columns]"
            ]
          },
          "metadata": {
            "tags": []
          },
          "execution_count": 189
        }
      ]
    },
    {
      "cell_type": "code",
      "metadata": {
        "id": "0jU5KM7w8T2v",
        "outputId": "b23d82f2-349b-44e0-bf86-7dfa5caac80c",
        "colab": {
          "base_uri": "https://localhost:8080/",
          "height": 952
        }
      },
      "source": [
        "# Create the bin dividers\n",
        "bins = [0, 60, 70, 80, 90, 100]\n",
        "\n",
        "# Create names for the four groups\n",
        "group_names = ['F', 'D', 'C', 'B', 'A']\n",
        "\n",
        "df['lettergrade'] = pd.cut(df['grade'], bins, labels=group_names)\n",
        "df"
      ],
      "execution_count": 191,
      "outputs": [
        {
          "output_type": "execute_result",
          "data": {
            "text/html": [
              "<div>\n",
              "<style scoped>\n",
              "    .dataframe tbody tr th:only-of-type {\n",
              "        vertical-align: middle;\n",
              "    }\n",
              "\n",
              "    .dataframe tbody tr th {\n",
              "        vertical-align: top;\n",
              "    }\n",
              "\n",
              "    .dataframe thead th {\n",
              "        text-align: right;\n",
              "    }\n",
              "</style>\n",
              "<table border=\"1\" class=\"dataframe\">\n",
              "  <thead>\n",
              "    <tr style=\"text-align: right;\">\n",
              "      <th></th>\n",
              "      <th>fname</th>\n",
              "      <th>lname</th>\n",
              "      <th>gender</th>\n",
              "      <th>age</th>\n",
              "      <th>exercise</th>\n",
              "      <th>hours</th>\n",
              "      <th>grade</th>\n",
              "      <th>address</th>\n",
              "      <th>lettergrade</th>\n",
              "    </tr>\n",
              "  </thead>\n",
              "  <tbody>\n",
              "    <tr>\n",
              "      <th>0</th>\n",
              "      <td>Marcia</td>\n",
              "      <td>Pugh</td>\n",
              "      <td>female</td>\n",
              "      <td>17</td>\n",
              "      <td>3</td>\n",
              "      <td>10</td>\n",
              "      <td>82.4</td>\n",
              "      <td>9253 Richardson Road, Matawan, NJ 07747</td>\n",
              "      <td>B</td>\n",
              "    </tr>\n",
              "    <tr>\n",
              "      <th>1</th>\n",
              "      <td>Kadeem</td>\n",
              "      <td>Morrison</td>\n",
              "      <td>male</td>\n",
              "      <td>18</td>\n",
              "      <td>4</td>\n",
              "      <td>4</td>\n",
              "      <td>78.2</td>\n",
              "      <td>33 Spring Dr., Taunton, MA 02780</td>\n",
              "      <td>C</td>\n",
              "    </tr>\n",
              "    <tr>\n",
              "      <th>2</th>\n",
              "      <td>Nash</td>\n",
              "      <td>Powell</td>\n",
              "      <td>male</td>\n",
              "      <td>18</td>\n",
              "      <td>5</td>\n",
              "      <td>9</td>\n",
              "      <td>79.3</td>\n",
              "      <td>41 Hill Avenue, Mentor, OH 44060</td>\n",
              "      <td>C</td>\n",
              "    </tr>\n",
              "    <tr>\n",
              "      <th>3</th>\n",
              "      <td>Noelani</td>\n",
              "      <td>Wagner</td>\n",
              "      <td>female</td>\n",
              "      <td>14</td>\n",
              "      <td>2</td>\n",
              "      <td>7</td>\n",
              "      <td>83.2</td>\n",
              "      <td>8839 Marshall St., Miami, FL 33125</td>\n",
              "      <td>B</td>\n",
              "    </tr>\n",
              "    <tr>\n",
              "      <th>4</th>\n",
              "      <td>Noelani</td>\n",
              "      <td>Cherry</td>\n",
              "      <td>female</td>\n",
              "      <td>18</td>\n",
              "      <td>4</td>\n",
              "      <td>15</td>\n",
              "      <td>87.4</td>\n",
              "      <td>8304 Charles Rd., Lewis Center, OH 43035</td>\n",
              "      <td>B</td>\n",
              "    </tr>\n",
              "    <tr>\n",
              "      <th>...</th>\n",
              "      <td>...</td>\n",
              "      <td>...</td>\n",
              "      <td>...</td>\n",
              "      <td>...</td>\n",
              "      <td>...</td>\n",
              "      <td>...</td>\n",
              "      <td>...</td>\n",
              "      <td>...</td>\n",
              "      <td>...</td>\n",
              "    </tr>\n",
              "    <tr>\n",
              "      <th>1995</th>\n",
              "      <td>Cody</td>\n",
              "      <td>Shepherd</td>\n",
              "      <td>male</td>\n",
              "      <td>19</td>\n",
              "      <td>1</td>\n",
              "      <td>8</td>\n",
              "      <td>80.1</td>\n",
              "      <td>982 West Street, Alexandria, VA 22304</td>\n",
              "      <td>B</td>\n",
              "    </tr>\n",
              "    <tr>\n",
              "      <th>1996</th>\n",
              "      <td>Geraldine</td>\n",
              "      <td>Peterson</td>\n",
              "      <td>female</td>\n",
              "      <td>16</td>\n",
              "      <td>4</td>\n",
              "      <td>18</td>\n",
              "      <td>100.0</td>\n",
              "      <td>78 Morris Street, East Northport, NY 11731</td>\n",
              "      <td>A</td>\n",
              "    </tr>\n",
              "    <tr>\n",
              "      <th>1997</th>\n",
              "      <td>Mercedes</td>\n",
              "      <td>Leon</td>\n",
              "      <td>female</td>\n",
              "      <td>18</td>\n",
              "      <td>3</td>\n",
              "      <td>14</td>\n",
              "      <td>84.9</td>\n",
              "      <td>30 Glenridge Rd., Bountiful, UT 84010</td>\n",
              "      <td>B</td>\n",
              "    </tr>\n",
              "    <tr>\n",
              "      <th>1998</th>\n",
              "      <td>Lucius</td>\n",
              "      <td>Rowland</td>\n",
              "      <td>male</td>\n",
              "      <td>16</td>\n",
              "      <td>1</td>\n",
              "      <td>7</td>\n",
              "      <td>69.1</td>\n",
              "      <td>342 West Meadowbrook Lane, Helena, MT 59601</td>\n",
              "      <td>D</td>\n",
              "    </tr>\n",
              "    <tr>\n",
              "      <th>1999</th>\n",
              "      <td>Linus</td>\n",
              "      <td>Morris</td>\n",
              "      <td>male</td>\n",
              "      <td>19</td>\n",
              "      <td>4</td>\n",
              "      <td>10</td>\n",
              "      <td>79.6</td>\n",
              "      <td>81 Homestead Drive, Voorhees, NJ 08043</td>\n",
              "      <td>C</td>\n",
              "    </tr>\n",
              "  </tbody>\n",
              "</table>\n",
              "<p>2000 rows × 9 columns</p>\n",
              "</div>"
            ],
            "text/plain": [
              "          fname  ... lettergrade\n",
              "0        Marcia  ...           B\n",
              "1        Kadeem  ...           C\n",
              "2          Nash  ...           C\n",
              "3       Noelani  ...           B\n",
              "4       Noelani  ...           B\n",
              "...         ...  ...         ...\n",
              "1995       Cody  ...           B\n",
              "1996  Geraldine  ...           A\n",
              "1997   Mercedes  ...           B\n",
              "1998     Lucius  ...           D\n",
              "1999      Linus  ...           C\n",
              "\n",
              "[2000 rows x 9 columns]"
            ]
          },
          "metadata": {
            "tags": []
          },
          "execution_count": 191
        }
      ]
    },
    {
      "cell_type": "code",
      "metadata": {
        "id": "u4FSQlCu9Hv3",
        "outputId": "7aabbe08-4fd7-40dc-8e7e-760f00c00685",
        "colab": {
          "base_uri": "https://localhost:8080/",
          "height": 119
        }
      },
      "source": [
        "pd.value_counts(df['lettergrade'])"
      ],
      "execution_count": 193,
      "outputs": [
        {
          "output_type": "execute_result",
          "data": {
            "text/plain": [
              "B    737\n",
              "C    580\n",
              "A    475\n",
              "D    193\n",
              "F     15\n",
              "Name: lettergrade, dtype: int64"
            ]
          },
          "metadata": {
            "tags": []
          },
          "execution_count": 193
        }
      ]
    },
    {
      "cell_type": "code",
      "metadata": {
        "id": "RuEuL_-r9Voz",
        "outputId": "79ee0ea5-5369-46bf-d57f-6db0fc974d14",
        "colab": {
          "base_uri": "https://localhost:8080/",
          "height": 68
        }
      },
      "source": [
        "pd.value_counts(df['gender'])"
      ],
      "execution_count": 183,
      "outputs": [
        {
          "output_type": "execute_result",
          "data": {
            "text/plain": [
              "male      1000\n",
              "female    1000\n",
              "Name: gender, dtype: int64"
            ]
          },
          "metadata": {
            "tags": []
          },
          "execution_count": 183
        }
      ]
    },
    {
      "cell_type": "code",
      "metadata": {
        "id": "AUeElGzh9eTk",
        "outputId": "cf55562e-fcef-407a-c3e1-266cd281d092",
        "colab": {
          "base_uri": "https://localhost:8080/",
          "height": 136
        }
      },
      "source": [
        "pd.value_counts(df['age'])"
      ],
      "execution_count": 184,
      "outputs": [
        {
          "output_type": "execute_result",
          "data": {
            "text/plain": [
              "17    356\n",
              "18    349\n",
              "19    345\n",
              "16    334\n",
              "14    316\n",
              "15    300\n",
              "Name: age, dtype: int64"
            ]
          },
          "metadata": {
            "tags": []
          },
          "execution_count": 184
        }
      ]
    },
    {
      "cell_type": "markdown",
      "metadata": {
        "id": "besQs8GF9wr-"
      },
      "source": [
        "**TAREA:** Recreate the dataframe from this section and create a column classifying\n",
        "the row as pass or fail. This is for a master's program that requires a grade\n",
        "of 80 or above for a student to pass."
      ]
    },
    {
      "cell_type": "code",
      "metadata": {
        "id": "x7oAf1hGdop-",
        "outputId": "85ce67a5-3829-45cb-c7f2-f1f43a70c8f6",
        "colab": {
          "base_uri": "https://localhost:8080/",
          "height": 708
        }
      },
      "source": [
        "Location = \"/content/drive/My Drive/Colab Notebooks/datasets/gradedata.csv\"\n",
        "\n",
        "df = pd.read_csv(Location)\n",
        "\n",
        "bins=[0, 80, 100]\n",
        "group_names=['Fail', 'Pass']\n",
        "\n",
        "df['Pass or Fail']= pd.cut(df['grade'], bins,labels=group_names)\n",
        "df"
      ],
      "execution_count": 188,
      "outputs": [
        {
          "output_type": "execute_result",
          "data": {
            "text/html": [
              "<div>\n",
              "<style scoped>\n",
              "    .dataframe tbody tr th:only-of-type {\n",
              "        vertical-align: middle;\n",
              "    }\n",
              "\n",
              "    .dataframe tbody tr th {\n",
              "        vertical-align: top;\n",
              "    }\n",
              "\n",
              "    .dataframe thead th {\n",
              "        text-align: right;\n",
              "    }\n",
              "</style>\n",
              "<table border=\"1\" class=\"dataframe\">\n",
              "  <thead>\n",
              "    <tr style=\"text-align: right;\">\n",
              "      <th></th>\n",
              "      <th>fname</th>\n",
              "      <th>lname</th>\n",
              "      <th>gender</th>\n",
              "      <th>age</th>\n",
              "      <th>exercise</th>\n",
              "      <th>hours</th>\n",
              "      <th>grade</th>\n",
              "      <th>address</th>\n",
              "      <th>Pass or Fail</th>\n",
              "    </tr>\n",
              "  </thead>\n",
              "  <tbody>\n",
              "    <tr>\n",
              "      <th>0</th>\n",
              "      <td>Marcia</td>\n",
              "      <td>Pugh</td>\n",
              "      <td>female</td>\n",
              "      <td>17</td>\n",
              "      <td>3</td>\n",
              "      <td>10</td>\n",
              "      <td>82.4</td>\n",
              "      <td>9253 Richardson Road, Matawan, NJ 07747</td>\n",
              "      <td>Pass</td>\n",
              "    </tr>\n",
              "    <tr>\n",
              "      <th>1</th>\n",
              "      <td>Kadeem</td>\n",
              "      <td>Morrison</td>\n",
              "      <td>male</td>\n",
              "      <td>18</td>\n",
              "      <td>4</td>\n",
              "      <td>4</td>\n",
              "      <td>78.2</td>\n",
              "      <td>33 Spring Dr., Taunton, MA 02780</td>\n",
              "      <td>Fail</td>\n",
              "    </tr>\n",
              "    <tr>\n",
              "      <th>2</th>\n",
              "      <td>Nash</td>\n",
              "      <td>Powell</td>\n",
              "      <td>male</td>\n",
              "      <td>18</td>\n",
              "      <td>5</td>\n",
              "      <td>9</td>\n",
              "      <td>79.3</td>\n",
              "      <td>41 Hill Avenue, Mentor, OH 44060</td>\n",
              "      <td>Fail</td>\n",
              "    </tr>\n",
              "    <tr>\n",
              "      <th>3</th>\n",
              "      <td>Noelani</td>\n",
              "      <td>Wagner</td>\n",
              "      <td>female</td>\n",
              "      <td>14</td>\n",
              "      <td>2</td>\n",
              "      <td>7</td>\n",
              "      <td>83.2</td>\n",
              "      <td>8839 Marshall St., Miami, FL 33125</td>\n",
              "      <td>Pass</td>\n",
              "    </tr>\n",
              "    <tr>\n",
              "      <th>4</th>\n",
              "      <td>Noelani</td>\n",
              "      <td>Cherry</td>\n",
              "      <td>female</td>\n",
              "      <td>18</td>\n",
              "      <td>4</td>\n",
              "      <td>15</td>\n",
              "      <td>87.4</td>\n",
              "      <td>8304 Charles Rd., Lewis Center, OH 43035</td>\n",
              "      <td>Pass</td>\n",
              "    </tr>\n",
              "    <tr>\n",
              "      <th>...</th>\n",
              "      <td>...</td>\n",
              "      <td>...</td>\n",
              "      <td>...</td>\n",
              "      <td>...</td>\n",
              "      <td>...</td>\n",
              "      <td>...</td>\n",
              "      <td>...</td>\n",
              "      <td>...</td>\n",
              "      <td>...</td>\n",
              "    </tr>\n",
              "    <tr>\n",
              "      <th>1995</th>\n",
              "      <td>Cody</td>\n",
              "      <td>Shepherd</td>\n",
              "      <td>male</td>\n",
              "      <td>19</td>\n",
              "      <td>1</td>\n",
              "      <td>8</td>\n",
              "      <td>80.1</td>\n",
              "      <td>982 West Street, Alexandria, VA 22304</td>\n",
              "      <td>Pass</td>\n",
              "    </tr>\n",
              "    <tr>\n",
              "      <th>1996</th>\n",
              "      <td>Geraldine</td>\n",
              "      <td>Peterson</td>\n",
              "      <td>female</td>\n",
              "      <td>16</td>\n",
              "      <td>4</td>\n",
              "      <td>18</td>\n",
              "      <td>100.0</td>\n",
              "      <td>78 Morris Street, East Northport, NY 11731</td>\n",
              "      <td>Pass</td>\n",
              "    </tr>\n",
              "    <tr>\n",
              "      <th>1997</th>\n",
              "      <td>Mercedes</td>\n",
              "      <td>Leon</td>\n",
              "      <td>female</td>\n",
              "      <td>18</td>\n",
              "      <td>3</td>\n",
              "      <td>14</td>\n",
              "      <td>84.9</td>\n",
              "      <td>30 Glenridge Rd., Bountiful, UT 84010</td>\n",
              "      <td>Pass</td>\n",
              "    </tr>\n",
              "    <tr>\n",
              "      <th>1998</th>\n",
              "      <td>Lucius</td>\n",
              "      <td>Rowland</td>\n",
              "      <td>male</td>\n",
              "      <td>16</td>\n",
              "      <td>1</td>\n",
              "      <td>7</td>\n",
              "      <td>69.1</td>\n",
              "      <td>342 West Meadowbrook Lane, Helena, MT 59601</td>\n",
              "      <td>Fail</td>\n",
              "    </tr>\n",
              "    <tr>\n",
              "      <th>1999</th>\n",
              "      <td>Linus</td>\n",
              "      <td>Morris</td>\n",
              "      <td>male</td>\n",
              "      <td>19</td>\n",
              "      <td>4</td>\n",
              "      <td>10</td>\n",
              "      <td>79.6</td>\n",
              "      <td>81 Homestead Drive, Voorhees, NJ 08043</td>\n",
              "      <td>Fail</td>\n",
              "    </tr>\n",
              "  </tbody>\n",
              "</table>\n",
              "<p>2000 rows × 9 columns</p>\n",
              "</div>"
            ],
            "text/plain": [
              "          fname  ... Pass or Fail\n",
              "0        Marcia  ...         Pass\n",
              "1        Kadeem  ...         Fail\n",
              "2          Nash  ...         Fail\n",
              "3       Noelani  ...         Pass\n",
              "4       Noelani  ...         Pass\n",
              "...         ...  ...          ...\n",
              "1995       Cody  ...         Pass\n",
              "1996  Geraldine  ...         Pass\n",
              "1997   Mercedes  ...         Pass\n",
              "1998     Lucius  ...         Fail\n",
              "1999      Linus  ...         Fail\n",
              "\n",
              "[2000 rows x 9 columns]"
            ]
          },
          "metadata": {
            "tags": []
          },
          "execution_count": 188
        }
      ]
    },
    {
      "cell_type": "markdown",
      "metadata": {
        "id": "UzL1Bmdf-DCj"
      },
      "source": [
        "# **Aplicando funciones a categorias, columnas y grupos**"
      ]
    },
    {
      "cell_type": "code",
      "metadata": {
        "id": "mU_gJ-Bv7brK",
        "outputId": "edbdefed-6c1c-49f6-ccd5-656eed3d83b3",
        "colab": {
          "base_uri": "https://localhost:8080/",
          "height": 136
        }
      },
      "source": [
        "df.groupby('lettergrade')['hours'].mean()"
      ],
      "execution_count": 194,
      "outputs": [
        {
          "output_type": "execute_result",
          "data": {
            "text/plain": [
              "lettergrade\n",
              "F     3.933333\n",
              "D     5.544041\n",
              "C     8.381034\n",
              "B    11.827680\n",
              "A    15.305263\n",
              "Name: hours, dtype: float64"
            ]
          },
          "metadata": {
            "tags": []
          },
          "execution_count": 194
        }
      ]
    },
    {
      "cell_type": "code",
      "metadata": {
        "id": "sbXNhMv__oyr"
      },
      "source": [
        "df['grade']=df['grade'].apply(lambda x: int(x))"
      ],
      "execution_count": null,
      "outputs": []
    },
    {
      "cell_type": "code",
      "metadata": {
        "id": "yBXS1iYHASi2"
      },
      "source": [
        "df"
      ],
      "execution_count": null,
      "outputs": []
    },
    {
      "cell_type": "code",
      "metadata": {
        "id": "7fZw9MB4A1Z4"
      },
      "source": [
        "gender_preScore = df['grade'].groupby(df['gender'])\n",
        "gender_preScore.mean()"
      ],
      "execution_count": null,
      "outputs": []
    },
    {
      "cell_type": "markdown",
      "metadata": {
        "id": "Jx7PEBQKA-Gh"
      },
      "source": [
        "**TAREA** Import the datasets/gradedata.csv file and create a new binned column\n",
        "of the 'status' as either passing (> 70) or failing (<=70). Then, compute\n",
        "the mean hours of exercise of the female students with a 'status' of\n",
        "passing."
      ]
    },
    {
      "cell_type": "code",
      "metadata": {
        "id": "zVSn877RjeI4"
      },
      "source": [
        "import pandas as pd\n",
        "Location = \"/content/drive/My Drive/Colab Notebooks/datasets/gradedata.csv\"\n",
        "df = pd.read_csv(Location)\n",
        "bins=[0,70,100]\n",
        "groups_names=['falling','passing']\n",
        "df['status'] = pd.cut(df['grade'], bins, labels = group_names)\n",
        "df"
      ],
      "execution_count": null,
      "outputs": []
    },
    {
      "cell_type": "markdown",
      "metadata": {
        "id": "RsnDFSadn6uC"
      },
      "source": [
        "# **Ranking de renglones de datos**"
      ]
    },
    {
      "cell_type": "code",
      "metadata": {
        "id": "2qJjp3OToDL-"
      },
      "source": [
        "import pandas as pd\n",
        "Location = \"/content/drive/My Drive/Colab Notebooks/datasets/gradedata.csv\"\n",
        "df = pd.read_csv(Location)\n",
        "df.head()"
      ],
      "execution_count": null,
      "outputs": []
    },
    {
      "cell_type": "code",
      "metadata": {
        "id": "oYsf7ucTob7g"
      },
      "source": [
        "df['graderanked'] = df['grade'].rank(ascending=1)\n",
        "df.tail()"
      ],
      "execution_count": null,
      "outputs": []
    },
    {
      "cell_type": "code",
      "metadata": {
        "id": "262s95sXot5u"
      },
      "source": [
        "df.loc[(df['graderanked'] < 21) | (df['graderanked'] == 50)]"
      ],
      "execution_count": null,
      "outputs": []
    },
    {
      "cell_type": "code",
      "metadata": {
        "id": "ghyE8_MwpLPa"
      },
      "source": [
        "df[df['graderanked'] < 6].sort_values('graderanked')"
      ],
      "execution_count": null,
      "outputs": []
    },
    {
      "cell_type": "markdown",
      "metadata": {
        "id": "0l8FdFN8pTBy"
      },
      "source": [
        "**Your Turn**\n",
        "Can you find the 50 students with the most hours of study per week?"
      ]
    },
    {
      "cell_type": "code",
      "metadata": {
        "id": "YPT65Z84j0KS"
      },
      "source": [
        "df['Hours Ranked'] = df['hours'].rank(ascending=0)\n",
        "\n",
        "df[df['Hours Ranked'] < 51].sort_values('Hours Ranked')"
      ],
      "execution_count": null,
      "outputs": []
    },
    {
      "cell_type": "markdown",
      "metadata": {
        "id": "JuAtWdwbpWoO"
      },
      "source": [
        "# **Crear una columna basada en un condicional**"
      ]
    },
    {
      "cell_type": "code",
      "metadata": {
        "id": "8V7hXw4Gpad5"
      },
      "source": [
        "import pandas as pd\n",
        "Location = \"/content/drive/My Drive/Colab Notebooks/datasets/gradedata.csv\"\n",
        "df = pd.read_csv(Location)\n",
        "df.head()"
      ],
      "execution_count": null,
      "outputs": []
    },
    {
      "cell_type": "code",
      "metadata": {
        "id": "WXQxbEcFplN8"
      },
      "source": [
        "import numpy as np\n",
        "df['isFailing'] = np.where(df['grade']<70, 'yes', 'no')\n",
        "df.tail(10)"
      ],
      "execution_count": null,
      "outputs": []
    },
    {
      "cell_type": "code",
      "metadata": {
        "id": "4gcVJUrjpyJM"
      },
      "source": [
        "df['isFailingMale'] = np.where((df['grade']<70) & (df['gender'] == 'male'),'yes', 'no')\n",
        "df.tail(10)"
      ],
      "execution_count": null,
      "outputs": []
    },
    {
      "cell_type": "markdown",
      "metadata": {
        "id": "CqnmaV5Mrnzw"
      },
      "source": [
        "**Your Turn**\n",
        "Can you create a column for timemgmt that shows busy if a student\n",
        "exercises more than three hours per week AND studies more than\n",
        "seventeen hours per week?"
      ]
    },
    {
      "cell_type": "code",
      "metadata": {
        "id": "ACpQERUlmN6C"
      },
      "source": [
        "df['timemgmt'] = np.where((df['exercise']>3 ) & (df['hours']> 17),'Busy', 'Free')\n",
        "df.tail(10)"
      ],
      "execution_count": null,
      "outputs": []
    },
    {
      "cell_type": "markdown",
      "metadata": {
        "id": "Uss8VYPYrt02"
      },
      "source": [
        "# **Creando nuevas columnas usando funciones**"
      ]
    },
    {
      "cell_type": "code",
      "metadata": {
        "id": "t6OLIzVHr3mR"
      },
      "source": [
        "import pandas as pd\n",
        "Location = \"/content/drive/My Drive/Colab Notebooks/datasets/gradedata.csv\"\n",
        "df = pd.read_csv(Location)\n",
        "df.head()"
      ],
      "execution_count": null,
      "outputs": []
    },
    {
      "cell_type": "code",
      "metadata": {
        "id": "tQxQR6q6r9TM"
      },
      "source": [
        "def singlename(fn, ln):\n",
        "  return fn + \" \" + ln"
      ],
      "execution_count": null,
      "outputs": []
    },
    {
      "cell_type": "code",
      "metadata": {
        "id": "_NeWTEFPsB7b"
      },
      "source": [
        "df['fullname'] = singlename(df['fname'],df['lname'])\n",
        "df"
      ],
      "execution_count": null,
      "outputs": []
    },
    {
      "cell_type": "markdown",
      "metadata": {
        "id": "YofPKKCtsNu6"
      },
      "source": [
        "**Your Turn**\n",
        "Can you create a column called total time that adds together the hours of\n",
        "study per week and the hours of exercise per week?"
      ]
    },
    {
      "cell_type": "code",
      "metadata": {
        "id": "Qv4HkqQJpsRE"
      },
      "source": [
        "df['Total Time'] = df['exercise'] + df['hours']\n",
        "df"
      ],
      "execution_count": null,
      "outputs": []
    },
    {
      "cell_type": "markdown",
      "metadata": {
        "id": "EjO246AasS8F"
      },
      "source": [
        "# **Convirtiendo categorías String a Variables Numericas**"
      ]
    },
    {
      "cell_type": "code",
      "metadata": {
        "id": "f9leMbPVsYX7"
      },
      "source": [
        "import pandas as pd\n",
        "Location = \"/content/drive/My Drive/Colab Notebooks/datasets/gradedata.csv\"\n",
        "df = pd.read_csv(Location)\n",
        "df.head()"
      ],
      "execution_count": null,
      "outputs": []
    },
    {
      "cell_type": "code",
      "metadata": {
        "id": "44kjSt3MtS5R"
      },
      "source": [
        "def score_to_numeric(x):\n",
        "  if x=='female':\n",
        "    return 1\n",
        "  if x=='male':\n",
        "    return 0"
      ],
      "execution_count": null,
      "outputs": []
    },
    {
      "cell_type": "code",
      "metadata": {
        "id": "ZIviGmFEtZqn"
      },
      "source": [
        "df['gender_val'] = df['gender'].apply(score_to_numeric)\n",
        "df.tail()"
      ],
      "execution_count": null,
      "outputs": []
    },
    {
      "cell_type": "code",
      "metadata": {
        "id": "b-py4V_yts35"
      },
      "source": [
        "df_gender = pd.get_dummies(df['gender'])\n",
        "df_gender.tail()"
      ],
      "execution_count": null,
      "outputs": []
    },
    {
      "cell_type": "code",
      "metadata": {
        "id": "F0as10YRt82b"
      },
      "source": [
        "# Alterative for joining the new columns\n",
        "df_new = df.join(df_gender)\n",
        "df_new.tail()"
      ],
      "execution_count": null,
      "outputs": []
    },
    {
      "cell_type": "markdown",
      "metadata": {
        "id": "48HAe3mFuUqb"
      },
      "source": [
        "**Your Turn**\n",
        "Using datasets/gradesdatawithyear.csv, can you create a numeric\n",
        "column to replace statuses of freshman through senior with the numerals 1\n",
        "through 4?"
      ]
    },
    {
      "cell_type": "code",
      "metadata": {
        "id": "VVRSnw1kr9os"
      },
      "source": [
        "import pandas as pd\n",
        "Location = \"/content/drive/My Drive/Colab Notebooks/datasets/gradesdatawithyear.csv\"\n",
        "df = pd.read_csv(Location, header=None)\n",
        "df.head()\n",
        "\n",
        "def score_to_numeric(x):\n",
        "  if x=='freshman':\n",
        "    return 1\n",
        "  if x=='sophomore':\n",
        "    return 2\n",
        "  if x=='junior':\n",
        "    return 3\n",
        "  if x=='senior':\n",
        "    return 4\n",
        "\n",
        "df['Status'] = df[8].apply(score_to_numeric)\n",
        "df.tail()\n",
        "\n"
      ],
      "execution_count": null,
      "outputs": []
    },
    {
      "cell_type": "markdown",
      "metadata": {
        "id": "od22qdjx_PoP"
      },
      "source": [
        "# **ORGANIZANDO LOS DATOS**"
      ]
    },
    {
      "cell_type": "markdown",
      "metadata": {
        "id": "we5akL6t_XwG"
      },
      "source": [
        "# **Removiendo y agregando datos**"
      ]
    },
    {
      "cell_type": "code",
      "metadata": {
        "id": "PkQppRiB_ddP"
      },
      "source": [
        "import pandas as pd\n",
        "\n",
        "names = ['Bob','Jessica','Mary','John','Mel']\n",
        "grades = [76,95,77,78,99]\n",
        "bsdegrees = [1,1,0,0,1]\n",
        "msdegrees = [2,1,0,0,0]\n",
        "phddegrees = [0,1,0,0,0]\n",
        "\n",
        "GradeList = zip(names,grades,bsdegrees,msdegrees, phddegrees)\n",
        "columns=['Names','Grades','BS','MS','PhD']\n",
        "df = pd.DataFrame(data = GradeList, columns=columns)\n",
        "\n",
        "df"
      ],
      "execution_count": null,
      "outputs": []
    },
    {
      "cell_type": "code",
      "metadata": {
        "id": "rUGfCkYZ_rj-"
      },
      "source": [
        "df.drop('PhD', axis=1)"
      ],
      "execution_count": null,
      "outputs": []
    },
    {
      "cell_type": "code",
      "metadata": {
        "id": "RX50dRWv_s-n"
      },
      "source": [
        "df['HighSchool']=0\n",
        "df"
      ],
      "execution_count": null,
      "outputs": []
    },
    {
      "cell_type": "code",
      "metadata": {
        "id": "eLjpEw3E_yEC"
      },
      "source": [
        "df['PreSchool'] = np.nan\n",
        "df"
      ],
      "execution_count": null,
      "outputs": []
    },
    {
      "cell_type": "code",
      "metadata": {
        "id": "tgm16jSN_4pf"
      },
      "source": [
        "d = ([0,1,0,1,0])\n",
        "s = pd.Series(d, index= df.index)\n",
        "df['DriversLicense'] = s\n",
        "df"
      ],
      "execution_count": null,
      "outputs": []
    },
    {
      "cell_type": "markdown",
      "metadata": {
        "id": "TynfWQOL_-4C"
      },
      "source": [
        "**Your Turn**\n",
        "Can you remove the bs, ms, and phd degree columns?\n",
        "Can you add a Hogwarts Magic Degree column? Everyone but Jessica\n",
        "has one; does that make it harder? No? Then I have to be sure to stump you\n",
        "next time."
      ]
    },
    {
      "cell_type": "code",
      "metadata": {
        "id": "Y3LnEx0A3BND"
      },
      "source": [
        "h = ([0,1,0,1,0])\n",
        "hs = pd.Series(h, index= df.index)\n",
        "df['Hogwarts Magic Degree'] = hs\n",
        "df.drop(['BS', 'MS', 'PhD'], axis=1)"
      ],
      "execution_count": null,
      "outputs": []
    },
    {
      "cell_type": "markdown",
      "metadata": {
        "id": "MRk20vaSADKl"
      },
      "source": [
        "# **Seleccionando columnas**"
      ]
    },
    {
      "cell_type": "code",
      "metadata": {
        "id": "p8kUw6tqAMlx"
      },
      "source": [
        "import pandas as pd\n",
        "\n",
        "Location = \"/content/drive/My Drive/Colab Notebooks/datasets/gradedata.csv\"\n",
        "df = pd.read_csv(Location)\n",
        "\n",
        "df.head()"
      ],
      "execution_count": null,
      "outputs": []
    },
    {
      "cell_type": "code",
      "metadata": {
        "id": "MN0WBxKFAScK"
      },
      "source": [
        "df['fname']"
      ],
      "execution_count": null,
      "outputs": []
    },
    {
      "cell_type": "code",
      "metadata": {
        "id": "PI5juAgFAYUn"
      },
      "source": [
        "df[['fname']]"
      ],
      "execution_count": null,
      "outputs": []
    },
    {
      "cell_type": "code",
      "metadata": {
        "id": "Yf1eyc8MAbeq"
      },
      "source": [
        "df[['fname','age','grade']]"
      ],
      "execution_count": null,
      "outputs": []
    },
    {
      "cell_type": "code",
      "metadata": {
        "id": "YueDgcODAc9z"
      },
      "source": [
        "df2 = df[['fname','age','grade']]\n",
        "df2.head()"
      ],
      "execution_count": null,
      "outputs": []
    },
    {
      "cell_type": "markdown",
      "metadata": {
        "id": "KrBXG6S5Aj6q"
      },
      "source": [
        "**Your Turn**\n",
        "We need to create a mailing list. Can you create a new dataframe by\n",
        "selecting the first name, last name, and address fields?"
      ]
    },
    {
      "cell_type": "code",
      "metadata": {
        "id": "DKJEZ0toAmZy"
      },
      "source": [
        "df3= df[['fname', 'lname', 'address']]\n",
        "df3.head()"
      ],
      "execution_count": null,
      "outputs": []
    },
    {
      "cell_type": "markdown",
      "metadata": {
        "id": "EfxwF1OKAngb"
      },
      "source": [
        "# **Cambiando el nombre a una columna**"
      ]
    },
    {
      "cell_type": "code",
      "metadata": {
        "id": "jkm-1NvFAuho"
      },
      "source": [
        "import pandas as pd\n",
        "\n",
        "Location = \"/content/drive/My Drive/Colab Notebooks/datasets/gradedata.csv\"\n",
        "df = pd.read_csv(Location)\n",
        "\n",
        "df.head()"
      ],
      "execution_count": null,
      "outputs": []
    },
    {
      "cell_type": "code",
      "metadata": {
        "id": "CZH7TdB9Ayp4"
      },
      "source": [
        "df.columns = ['FirstName', 'LastName', 'Gender',\n",
        "'Age', 'HoursExercisePerWeek',\n",
        "'HoursStudyPerWeek', 'LetterGrade',\n",
        "'StreetAddress']\n",
        "df.head()"
      ],
      "execution_count": null,
      "outputs": []
    },
    {
      "cell_type": "code",
      "metadata": {
        "id": "yCOFOmpPA16c"
      },
      "source": [
        "headers = list(df.columns.values)"
      ],
      "execution_count": null,
      "outputs": []
    },
    {
      "cell_type": "code",
      "metadata": {
        "id": "b8JbO7e_A64q"
      },
      "source": [
        "headers[0] = 'FName'\n",
        "headers[1] = 'LName'\n",
        "df.columns = headers\n",
        "df.head()"
      ],
      "execution_count": null,
      "outputs": []
    },
    {
      "cell_type": "markdown",
      "metadata": {
        "id": "PafiDOxjBCnc"
      },
      "source": [
        "**Your Turn**\n",
        "Can you change the age column name to years?"
      ]
    },
    {
      "cell_type": "code",
      "metadata": {
        "id": "6zU8zfkwBF9c"
      },
      "source": [
        "headers[3]= 'Year'\n",
        "df.columns= headers\n",
        "df.head()\n",
        "df.columns = [x.lower() for x in df.columns]\n",
        "df"
      ],
      "execution_count": null,
      "outputs": []
    },
    {
      "cell_type": "markdown",
      "metadata": {
        "id": "Hdf3gj_fBW9I"
      },
      "source": [
        "**Your Turn**\n",
        "Can you figure out how to make all the column headers all uppercase?"
      ]
    },
    {
      "cell_type": "code",
      "metadata": {
        "id": "ORH0JmRo8877"
      },
      "source": [
        "df.columns = [x.upper() for x in df.columns]\n",
        "df"
      ],
      "execution_count": null,
      "outputs": []
    },
    {
      "cell_type": "markdown",
      "metadata": {
        "id": "RbgAtYDDuYkY"
      },
      "source": [
        "# **Buscando registros que cumplan condición**"
      ]
    },
    {
      "cell_type": "code",
      "metadata": {
        "id": "lNGTbIcLuhpJ"
      },
      "source": [
        "import pandas as pd\n",
        "names = ['Bob','Jessica','Mary','John','Mel']\n",
        "grades = [76,95,77,78,99]\n",
        "GradeList = zip(names,grades)\n",
        "df = pd.DataFrame(data = GradeList,\n",
        "columns=['Names', 'Grades'])\n",
        "df"
      ],
      "execution_count": null,
      "outputs": []
    },
    {
      "cell_type": "code",
      "metadata": {
        "id": "9_NX7FKUulBe"
      },
      "source": [
        "df['Names'].str.contains('Mel')"
      ],
      "execution_count": null,
      "outputs": []
    },
    {
      "cell_type": "code",
      "metadata": {
        "id": "UNUQSrNOu3ln"
      },
      "source": [
        "df['Names'].str.contains('Mel').any()"
      ],
      "execution_count": null,
      "outputs": []
    },
    {
      "cell_type": "code",
      "metadata": {
        "id": "w8B8G0kru6Ca"
      },
      "source": [
        "df['Names'].str.contains('Mel').all()"
      ],
      "execution_count": null,
      "outputs": []
    },
    {
      "cell_type": "code",
      "metadata": {
        "id": "p2OGYb_dvCf7"
      },
      "source": [
        "# Find the rows that match a criteria like this\n",
        "df.loc[df['Names'].str.contains('Mel')==True]"
      ],
      "execution_count": null,
      "outputs": []
    },
    {
      "cell_type": "code",
      "metadata": {
        "id": "k0vneEZCvF32"
      },
      "source": [
        "# or even like this...\n",
        "df.loc[df['Grades']==0]"
      ],
      "execution_count": null,
      "outputs": []
    },
    {
      "cell_type": "markdown",
      "metadata": {
        "id": "wUl00CjFvLfX"
      },
      "source": [
        "**Your Turn**\n",
        "Can you find all the people who have at least one MS degree in the\n",
        "following data (Listing 3-72)?\n",
        "Listing 3-72. Starting Dataset\n",
        "import pandas as pd\n",
        "names = ['Bob','Jessi','Mary','John','Mel','Sam',\n",
        "'Cathy','Hank','Lloyd']\n",
        "grades = [76,95,77,78,99,84,79,100,73]\n",
        "bsdegrees = [1,1,0,0,1,1,1,0,1]\n",
        "msdegrees = [2,1,0,0,0,1,1,0,0]\n",
        "phddegrees = [0,1,0,0,0,2,1,0,0]\n",
        "GradeList = zip(names,grades,bsdegrees,msdegrees,\n",
        "phddegrees)\n",
        "df = pd.DataFrame(data = GradeList, columns=['Name','Grade','BS',\n",
        "'MS','PhD'])\n",
        "df"
      ]
    },
    {
      "cell_type": "code",
      "metadata": {
        "id": "4UyqnatRvVC8"
      },
      "source": [
        "import pandas as pd\n",
        "names = ['Bob','Jessi','Mary','John','Mel','Sam','Cathy','Hank','Lloyd']\n",
        "grades = [76,95,77,78,99,84,79,100,73]\n",
        "bsdegrees = [1,1,0,0,1,1,1,0,1]\n",
        "msdegrees = [2,1,0,0,0,1,1,0,0]\n",
        "phddegrees = [0,1,0,0,0,2,1,0,0]\n",
        "\n",
        "GradeList = zip(names,grades,bsdegrees,msdegrees,phddegrees)\n",
        "\n",
        "df = pd.DataFrame(data = GradeList, columns=['Name','Grade','BS',\n",
        "'MS','PhD'])\n",
        "df"
      ],
      "execution_count": null,
      "outputs": []
    },
    {
      "cell_type": "markdown",
      "metadata": {
        "id": "P9ITEAsxvZoj"
      },
      "source": [
        "# **Filtrar renglones en base a condiciones**"
      ]
    },
    {
      "cell_type": "code",
      "metadata": {
        "id": "TG5o16VRveCN"
      },
      "source": [
        "import pandas as pd\n",
        "\n",
        "Location = \"/content/drive/My Drive/Colab Notebooks/datasets/gradedata.csv\"\n",
        "df = pd.read_csv(Location)\n",
        "\n",
        "df.head()"
      ],
      "execution_count": null,
      "outputs": []
    },
    {
      "cell_type": "code",
      "metadata": {
        "id": "8KR9SR1XwIsH"
      },
      "source": [
        "df['grade'].head()"
      ],
      "execution_count": null,
      "outputs": []
    },
    {
      "cell_type": "code",
      "metadata": {
        "id": "51rwl0DNwL5i"
      },
      "source": [
        "df[['age','grade']].head()"
      ],
      "execution_count": null,
      "outputs": []
    },
    {
      "cell_type": "code",
      "metadata": {
        "id": "sBBcGPZ8wPhH"
      },
      "source": [
        "df[:2]"
      ],
      "execution_count": null,
      "outputs": []
    },
    {
      "cell_type": "code",
      "metadata": {
        "id": "GEtJ_mddwTCa"
      },
      "source": [
        "df[df['grade'] > 80]"
      ],
      "execution_count": null,
      "outputs": []
    },
    {
      "cell_type": "code",
      "metadata": {
        "id": "yaiya0PgwYJC"
      },
      "source": [
        "df[(df['grade'] > 99.9) & (df['gender'] == 'male') ]"
      ],
      "execution_count": null,
      "outputs": []
    },
    {
      "cell_type": "code",
      "metadata": {
        "id": "iJyhm9n4wj_K"
      },
      "source": [
        "df[(df['grade'] > 99.9) & (df['gender'] == 'female') ]"
      ],
      "execution_count": null,
      "outputs": []
    },
    {
      "cell_type": "markdown",
      "metadata": {
        "id": "ob-7ia6cwtya"
      },
      "source": [
        "**Your Turn**\n",
        "Can you show all the rows where the student was male, exercised less than\n",
        "two hours per week, and studied more than fifteen hours per week?"
      ]
    },
    {
      "cell_type": "code",
      "metadata": {
        "id": "s5W5lGa29aym"
      },
      "source": [
        "df[(df['hours'] > 15) & (df['gender'] == 'male') & (df['exercise'] < 2) ]"
      ],
      "execution_count": null,
      "outputs": []
    },
    {
      "cell_type": "markdown",
      "metadata": {
        "id": "eURCzBDfw4eY"
      },
      "source": [
        "# **Seleccionar renglones en base a condiciones**"
      ]
    },
    {
      "cell_type": "code",
      "metadata": {
        "id": "ctI1s-ohw-8E"
      },
      "source": [
        "import pandas as pd\n",
        "\n",
        "Location = \"/content/drive/My Drive/Colab Notebooks/datasets/gradedata.csv\"\n",
        "df = pd.read_csv(Location)\n",
        "\n",
        "df.head()"
      ],
      "execution_count": null,
      "outputs": []
    },
    {
      "cell_type": "code",
      "metadata": {
        "id": "AFQ75xHdxKn0"
      },
      "source": [
        "female = df['gender'] == \"female\"\n",
        "a_student = df['grade'] >= 90\n",
        "df[female & a_student].head()"
      ],
      "execution_count": null,
      "outputs": []
    },
    {
      "cell_type": "code",
      "metadata": {
        "id": "KNtXNErixn0R"
      },
      "source": [
        "df[df['fname'].notnull() & (df['gender'] == \"male\")]"
      ],
      "execution_count": null,
      "outputs": []
    },
    {
      "cell_type": "markdown",
      "metadata": {
        "id": "Q6ggaePMxtlf"
      },
      "source": [
        "**Your Turn**\n",
        "Can you find all the rows where the student had four or more hours of\n",
        "exercise per week, seventeen or more hours of study, and still had a grade\n",
        "that was lower than 80?"
      ]
    },
    {
      "cell_type": "code",
      "metadata": {
        "id": "KPpAsTK19jFm"
      },
      "source": [
        "df[(df['hours'] > 15) & (df['gender'] == 'male') & (df['exercise'] < 2) ]"
      ],
      "execution_count": null,
      "outputs": []
    },
    {
      "cell_type": "markdown",
      "metadata": {
        "id": "kd-VUoOdx8c4"
      },
      "source": [
        "# **Muestreo aleatorio de un DataFrame**"
      ]
    },
    {
      "cell_type": "code",
      "metadata": {
        "id": "nAhBjjUpyACE"
      },
      "source": [
        "import pandas as pd\n",
        "import numpy as np\n",
        "\n",
        "Location = \"/content/drive/My Drive/Colab Notebooks/datasets/gradedata.csv\"\n",
        "df = pd.read_csv(Location)\n",
        "\n",
        "df.tail()"
      ],
      "execution_count": null,
      "outputs": []
    },
    {
      "cell_type": "code",
      "metadata": {
        "id": "_zlU10bDyJUZ"
      },
      "source": [
        "df.take(np.random.permutation(len(df))[:100])"
      ],
      "execution_count": null,
      "outputs": []
    },
    {
      "cell_type": "markdown",
      "metadata": {
        "id": "-ul8jfolyZhJ"
      },
      "source": [
        "**Your Turn**\n",
        "Can you create a random sample of 500 rows from that dataset?"
      ]
    },
    {
      "cell_type": "code",
      "metadata": {
        "id": "IYfgTsP49wsP"
      },
      "source": [
        "df.take(np.random.permutation(len(df))[:500])"
      ],
      "execution_count": null,
      "outputs": []
    }
  ]
}